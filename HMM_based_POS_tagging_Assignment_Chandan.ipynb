{
 "cells": [
  {
   "cell_type": "markdown",
   "metadata": {},
   "source": [
    "## POS tagging using modified Viterbi"
   ]
  },
  {
   "cell_type": "markdown",
   "metadata": {},
   "source": [
    "### Data Preparation"
   ]
  },
  {
   "cell_type": "code",
   "execution_count": 1,
   "metadata": {},
   "outputs": [
    {
     "name": "stderr",
     "output_type": "stream",
     "text": [
      "[nltk_data] Downloading package universal_tagset to\n",
      "[nltk_data]     C:\\Users\\chandan.r.singh\\AppData\\Roaming\\nltk_data...\n",
      "[nltk_data]   Package universal_tagset is already up-to-date!\n"
     ]
    },
    {
     "data": {
      "text/plain": [
       "True"
      ]
     },
     "execution_count": 1,
     "metadata": {},
     "output_type": "execute_result"
    }
   ],
   "source": [
    "#Importing libraries\n",
    "import nltk\n",
    "\n",
    "\n",
    "import nltk, re, pprint\n",
    "import numpy as np\n",
    "import pandas as pd\n",
    "import requests\n",
    "import matplotlib.pyplot as plt\n",
    "import seaborn as sns\n",
    "import pprint, time\n",
    "import random\n",
    "from sklearn.model_selection import train_test_split\n",
    "from nltk.tokenize import word_tokenize\n",
    "\n",
    "\n",
    "# Downlaod \"Universal Tagset\"\n",
    "nltk.download('universal_tagset')"
   ]
  },
  {
   "cell_type": "code",
   "execution_count": 2,
   "metadata": {},
   "outputs": [],
   "source": [
    "# reading the Treebank tagged sentences\n",
    "nltk_data = list(nltk.corpus.treebank.tagged_sents(tagset='universal'))"
   ]
  },
  {
   "cell_type": "code",
   "execution_count": 3,
   "metadata": {},
   "outputs": [
    {
     "name": "stdout",
     "output_type": "stream",
     "text": [
      "[[('Pierre', 'NOUN'), ('Vinken', 'NOUN'), (',', '.'), ('61', 'NUM'), ('years', 'NOUN'), ('old', 'ADJ'), (',', '.'), ('will', 'VERB'), ('join', 'VERB'), ('the', 'DET'), ('board', 'NOUN'), ('as', 'ADP'), ('a', 'DET'), ('nonexecutive', 'ADJ'), ('director', 'NOUN'), ('Nov.', 'NOUN'), ('29', 'NUM'), ('.', '.')], [('Mr.', 'NOUN'), ('Vinken', 'NOUN'), ('is', 'VERB'), ('chairman', 'NOUN'), ('of', 'ADP'), ('Elsevier', 'NOUN'), ('N.V.', 'NOUN'), (',', '.'), ('the', 'DET'), ('Dutch', 'NOUN'), ('publishing', 'VERB'), ('group', 'NOUN'), ('.', '.')], [('Rudolph', 'NOUN'), ('Agnew', 'NOUN'), (',', '.'), ('55', 'NUM'), ('years', 'NOUN'), ('old', 'ADJ'), ('and', 'CONJ'), ('former', 'ADJ'), ('chairman', 'NOUN'), ('of', 'ADP'), ('Consolidated', 'NOUN'), ('Gold', 'NOUN'), ('Fields', 'NOUN'), ('PLC', 'NOUN'), (',', '.'), ('was', 'VERB'), ('named', 'VERB'), ('*-1', 'X'), ('a', 'DET'), ('nonexecutive', 'ADJ'), ('director', 'NOUN'), ('of', 'ADP'), ('this', 'DET'), ('British', 'ADJ'), ('industrial', 'ADJ'), ('conglomerate', 'NOUN'), ('.', '.')], [('A', 'DET'), ('form', 'NOUN'), ('of', 'ADP'), ('asbestos', 'NOUN'), ('once', 'ADV'), ('used', 'VERB'), ('*', 'X'), ('*', 'X'), ('to', 'PRT'), ('make', 'VERB'), ('Kent', 'NOUN'), ('cigarette', 'NOUN'), ('filters', 'NOUN'), ('has', 'VERB'), ('caused', 'VERB'), ('a', 'DET'), ('high', 'ADJ'), ('percentage', 'NOUN'), ('of', 'ADP'), ('cancer', 'NOUN'), ('deaths', 'NOUN'), ('among', 'ADP'), ('a', 'DET'), ('group', 'NOUN'), ('of', 'ADP'), ('workers', 'NOUN'), ('exposed', 'VERB'), ('*', 'X'), ('to', 'PRT'), ('it', 'PRON'), ('more', 'ADV'), ('than', 'ADP'), ('30', 'NUM'), ('years', 'NOUN'), ('ago', 'ADP'), (',', '.'), ('researchers', 'NOUN'), ('reported', 'VERB'), ('0', 'X'), ('*T*-1', 'X'), ('.', '.')], [('The', 'DET'), ('asbestos', 'NOUN'), ('fiber', 'NOUN'), (',', '.'), ('crocidolite', 'NOUN'), (',', '.'), ('is', 'VERB'), ('unusually', 'ADV'), ('resilient', 'ADJ'), ('once', 'ADP'), ('it', 'PRON'), ('enters', 'VERB'), ('the', 'DET'), ('lungs', 'NOUN'), (',', '.'), ('with', 'ADP'), ('even', 'ADV'), ('brief', 'ADJ'), ('exposures', 'NOUN'), ('to', 'PRT'), ('it', 'PRON'), ('causing', 'VERB'), ('symptoms', 'NOUN'), ('that', 'DET'), ('*T*-1', 'X'), ('show', 'VERB'), ('up', 'PRT'), ('decades', 'NOUN'), ('later', 'ADJ'), (',', '.'), ('researchers', 'NOUN'), ('said', 'VERB'), ('0', 'X'), ('*T*-2', 'X'), ('.', '.')]]\n"
     ]
    }
   ],
   "source": [
    "# first few tagged sentences\n",
    "print(nltk_data[:5])"
   ]
  },
  {
   "cell_type": "code",
   "execution_count": 4,
   "metadata": {},
   "outputs": [
    {
     "name": "stdout",
     "output_type": "stream",
     "text": [
      "3914\n"
     ]
    }
   ],
   "source": [
    "# Check the length of the dataset\n",
    "print(len(nltk_data))"
   ]
  },
  {
   "cell_type": "code",
   "execution_count": 5,
   "metadata": {},
   "outputs": [
    {
     "data": {
      "text/plain": [
       "[[('Pierre', 'NOUN'),\n",
       "  ('Vinken', 'NOUN'),\n",
       "  (',', '.'),\n",
       "  ('61', 'NUM'),\n",
       "  ('years', 'NOUN'),\n",
       "  ('old', 'ADJ'),\n",
       "  (',', '.'),\n",
       "  ('will', 'VERB'),\n",
       "  ('join', 'VERB'),\n",
       "  ('the', 'DET'),\n",
       "  ('board', 'NOUN'),\n",
       "  ('as', 'ADP'),\n",
       "  ('a', 'DET'),\n",
       "  ('nonexecutive', 'ADJ'),\n",
       "  ('director', 'NOUN'),\n",
       "  ('Nov.', 'NOUN'),\n",
       "  ('29', 'NUM'),\n",
       "  ('.', '.')]]"
      ]
     },
     "execution_count": 5,
     "metadata": {},
     "output_type": "execute_result"
    }
   ],
   "source": [
    "# lets check the very first sentence in the dataset\n",
    "nltk_data[:1]"
   ]
  },
  {
   "cell_type": "markdown",
   "metadata": {},
   "source": [
    "### Split the data into Train and Validation"
   ]
  },
  {
   "cell_type": "code",
   "execution_count": 6,
   "metadata": {},
   "outputs": [
    {
     "name": "stdout",
     "output_type": "stream",
     "text": [
      "Size of Trainging set => 3718\n",
      "Size of Trainging set => 196\n"
     ]
    }
   ],
   "source": [
    "# Splitting into train and test in the ration 95:5\n",
    "random.seed(1234)\n",
    "train_set, test_set = train_test_split(nltk_data, test_size=0.05)\n",
    "\n",
    "print(\"Size of Trainging set => {}\" .format(len(train_set)))\n",
    "print(\"Size of Trainging set => {}\" .format(len(test_set)))"
   ]
  },
  {
   "cell_type": "code",
   "execution_count": 7,
   "metadata": {},
   "outputs": [
    {
     "name": "stdout",
     "output_type": "stream",
     "text": [
      "[[('According', 'VERB'), ('to', 'PRT'), ('Dr.', 'NOUN'), ('Wright', 'NOUN'), (',', '.'), ('homelessness', 'NOUN'), ('is', 'VERB'), ('``', '.'), ('simultaneously', 'ADV'), ('a', 'DET'), ('housing', 'NOUN'), ('problem', 'NOUN'), (',', '.'), ('an', 'DET'), ('employment', 'NOUN'), ('problem', 'NOUN'), (',', '.'), ('a', 'DET'), ('demographic', 'ADJ'), ('problem', 'NOUN'), (',', '.'), ('a', 'DET'), ('problem', 'NOUN'), ('of', 'ADP'), ('social', 'ADJ'), ('disaffiliation', 'NOUN'), (',', '.'), ('a', 'DET'), ('mental', 'ADJ'), ('health', 'NOUN'), ('problem', 'NOUN'), (',', '.'), ('a', 'DET'), ('family', 'NOUN'), ('violence', 'NOUN'), ('problem', 'NOUN'), (',', '.'), ('a', 'DET'), ('problem', 'NOUN'), ('created', 'VERB'), ('*', 'X'), ('by', 'ADP'), ('the', 'DET'), ('cutbacks', 'NOUN'), ('in', 'ADP'), ('social', 'ADJ'), ('welfare', 'NOUN'), ('spending', 'NOUN'), (',', '.'), ('a', 'DET'), ('problem', 'NOUN'), ('resulting', 'VERB'), ('from', 'ADP'), ('the', 'DET'), ('decay', 'NOUN'), ('of', 'ADP'), ('the', 'DET'), ('traditional', 'ADJ'), ('nuclear', 'ADJ'), ('family', 'NOUN'), (',', '.'), ('and', 'CONJ'), ('a', 'DET'), ('problem', 'NOUN'), ('intimately', 'ADV'), ('connected', 'VERB'), ('to', 'PRT'), ('the', 'DET'), ('recent', 'ADJ'), ('increase', 'NOUN'), ('in', 'ADP'), ('the', 'DET'), ('number', 'NOUN'), ('of', 'ADP'), ('persons', 'NOUN'), ('living', 'VERB'), ('below', 'ADP'), ('the', 'DET'), ('poverty', 'NOUN'), ('level', 'NOUN'), ('.', '.'), (\"''\", '.')], [('*', 'X'), ('Think', 'VERB'), ('about', 'ADP'), ('the', 'DET'), ('good', 'NOUN'), ('0', 'X'), ('you', 'PRON'), ('can', 'VERB'), ('do', 'VERB'), ('*T*-1', 'X'), ('for', 'ADP'), ('just', 'ADV'), ('$', '.'), ('15,000', 'NUM'), ('*U*', 'X'), ('a', 'DET'), ('month', 'NOUN'), (',', '.'), ('about', 'ADV'), ('the', 'DET'), ('cost', 'NOUN'), ('of', 'ADP'), ('a', 'DET'), ('mid-size', 'ADJ'), ('Chevrolet', 'NOUN'), ('or', 'CONJ'), ('two', 'NUM'), ('semesters', 'NOUN'), ('at', 'ADP'), ('a', 'DET'), ('state', 'NOUN'), ('university', 'NOUN'), ('.', '.')], [('They', 'PRON'), ('do', 'VERB'), (\"n't\", 'ADV'), ('have', 'VERB'), ('plans', 'NOUN'), ('*', 'X'), ('to', 'PRT'), ('cut', 'VERB'), ('back', 'ADV'), ('.', '.')], [('--', '.'), ('$', '.'), ('10', 'NUM'), ('billion', 'NUM'), ('*U*', 'X'), ('of', 'ADP'), ('three-year', 'ADJ'), ('notes', 'NOUN'), (',', '.'), ('0', 'X'), ('*T*-1', 'X'), ('to', 'PRT'), ('be', 'VERB'), ('auctioned', 'VERB'), ('*-108', 'X'), ('Tuesday', 'NOUN'), ('and', 'CONJ'), ('to', 'PRT'), ('mature', 'VERB'), ('Nov.', 'NOUN'), ('15', 'NUM'), (',', '.'), ('1992', 'NUM'), ('.', '.')], [('In', 'ADP'), ('a', 'DET'), ('telephone', 'NOUN'), ('interview', 'NOUN'), (',', '.'), ('Mr.', 'NOUN'), ('Reupke', 'NOUN'), ('said', 'VERB'), ('0', 'X'), ('his', 'PRON'), ('departure', 'NOUN'), ('was', 'VERB'), ('for', 'ADP'), ('``', '.'), ('personal', 'ADJ'), ('reasons', 'NOUN'), (',', '.'), (\"''\", '.'), ('which', 'DET'), ('he', 'PRON'), ('declined', 'VERB'), ('*-2', 'X'), ('to', 'PRT'), ('specify', 'VERB'), ('*T*-1', 'X'), ('.', '.')]]\n"
     ]
    }
   ],
   "source": [
    "# let's see first few records of train set\n",
    "print(train_set[:5])"
   ]
  },
  {
   "cell_type": "code",
   "execution_count": 8,
   "metadata": {},
   "outputs": [
    {
     "data": {
      "text/plain": [
       "95694"
      ]
     },
     "execution_count": 8,
     "metadata": {},
     "output_type": "execute_result"
    }
   ],
   "source": [
    "# Getting list of tagged words\n",
    "train_tagged_words = [tup for sent in train_set for tup in sent]\n",
    "len(train_tagged_words)"
   ]
  },
  {
   "cell_type": "code",
   "execution_count": 9,
   "metadata": {},
   "outputs": [
    {
     "data": {
      "text/plain": [
       "['According',\n",
       " 'to',\n",
       " 'Dr.',\n",
       " 'Wright',\n",
       " ',',\n",
       " 'homelessness',\n",
       " 'is',\n",
       " '``',\n",
       " 'simultaneously',\n",
       " 'a']"
      ]
     },
     "execution_count": 9,
     "metadata": {},
     "output_type": "execute_result"
    }
   ],
   "source": [
    "# tokens \n",
    "tokens = [pair[0] for pair in train_tagged_words]\n",
    "tokens[:10]"
   ]
  },
  {
   "cell_type": "code",
   "execution_count": 10,
   "metadata": {},
   "outputs": [],
   "source": [
    "# vocabulary\n",
    "vacob = set(tokens)\n"
   ]
  },
  {
   "cell_type": "code",
   "execution_count": 11,
   "metadata": {},
   "outputs": [
    {
     "name": "stdout",
     "output_type": "stream",
     "text": [
      "12059\n"
     ]
    }
   ],
   "source": [
    "print(len(vacob))"
   ]
  },
  {
   "cell_type": "code",
   "execution_count": 12,
   "metadata": {},
   "outputs": [
    {
     "data": {
      "text/plain": [
       "12"
      ]
     },
     "execution_count": 12,
     "metadata": {},
     "output_type": "execute_result"
    }
   ],
   "source": [
    "# number of tags\n",
    "ltag = set([pair[1] for pair in train_tagged_words])\n",
    "len(ltag)"
   ]
  },
  {
   "cell_type": "code",
   "execution_count": 13,
   "metadata": {},
   "outputs": [
    {
     "name": "stdout",
     "output_type": "stream",
     "text": [
      "{'PRT', 'X', '.', 'DET', 'ADV', 'PRON', 'NUM', 'ADJ', 'VERB', 'CONJ', 'ADP', 'NOUN'}\n"
     ]
    }
   ],
   "source": [
    "print(ltag)"
   ]
  },
  {
   "cell_type": "markdown",
   "metadata": {},
   "source": [
    "### Build the vanilla Viterbi based POS tagger"
   ]
  },
  {
   "cell_type": "markdown",
   "metadata": {},
   "source": [
    "## Viterbi Algorithm\n",
    "\n",
    "Let's now use the computed probabilities P(w, tag) and P(t2, t1) to assign tags to each word in the document. We'll run through each word w and compute P(tag/w)=P(w/tag).P(tag) for each tag in the tag set, and then assign the tag having the max P(tag/w).\n",
    "\n",
    "We'll store the assigned tags in a list of tuples, similar to the list 'train_tagged_words'. Each tuple will be a (token, assigned_tag). As we progress further in the list, each tag to be assigned will use the tag of the previous token.\n",
    "\n",
    "Note: P(tag|start) = P(tag|'.') "
   ]
  },
  {
   "cell_type": "code",
   "execution_count": 14,
   "metadata": {},
   "outputs": [
    {
     "data": {
      "text/plain": [
       "95694"
      ]
     },
     "execution_count": 14,
     "metadata": {},
     "output_type": "execute_result"
    }
   ],
   "source": [
    "len(train_tagged_words)"
   ]
  },
  {
   "cell_type": "code",
   "execution_count": 15,
   "metadata": {},
   "outputs": [],
   "source": [
    "# computing P(w/t) and storing in T x V matrix\n",
    "t = len(ltag)\n",
    "v = len(vacob)\n",
    "w_given_t = np.zeros((t, v))"
   ]
  },
  {
   "cell_type": "code",
   "execution_count": 16,
   "metadata": {},
   "outputs": [],
   "source": [
    "# compute word given tag: Emission Probability\n",
    "def word_given_tag(word, tag, train_bag = train_tagged_words):\n",
    "    tag_list = [pair for pair in train_bag if pair[1]==tag]\n",
    "    count_tag = len(tag_list)\n",
    "    w_given_tag_list = [pair[0] for pair in tag_list if pair[0]==word]\n",
    "    count_w_given_tag = len(w_given_tag_list)\n",
    "    \n",
    "    return (count_w_given_tag, count_tag)"
   ]
  },
  {
   "cell_type": "code",
   "execution_count": 17,
   "metadata": {},
   "outputs": [
    {
     "name": "stdout",
     "output_type": "stream",
     "text": [
      "\n",
      " large\n",
      "(0, 0)\n",
      "(0, 0)\n",
      "(0, 0) \n",
      "\n",
      "\n",
      " will\n",
      "(0, 0)\n",
      "(0, 0)\n",
      "(0, 0)\n",
      "\n",
      " book\n",
      "(0, 0)\n",
      "(0, 0)\n"
     ]
    }
   ],
   "source": [
    "# examples\n",
    "\n",
    "# large\n",
    "print(\"\\n\", \"large\")\n",
    "print(word_given_tag('large', 'JJ'))\n",
    "print(word_given_tag('large', 'VB'))\n",
    "print(word_given_tag('large', 'NN'), \"\\n\")\n",
    "\n",
    "# will\n",
    "print(\"\\n\", \"will\")\n",
    "print(word_given_tag('will', 'MD'))\n",
    "print(word_given_tag('will', 'NN'))\n",
    "print(word_given_tag('will', 'VB'))\n",
    "\n",
    "# book\n",
    "print(\"\\n\", \"book\")\n",
    "print(word_given_tag('book', 'NN'))\n",
    "print(word_given_tag('book', 'VB'))"
   ]
  },
  {
   "cell_type": "code",
   "execution_count": 18,
   "metadata": {},
   "outputs": [],
   "source": [
    "# compute tag given tag: tag2(t2) given tag1 (t1), i.e. Transition Probability\n",
    "\n",
    "def t2_given_t1(t2, t1, train_bag = train_tagged_words):\n",
    "    tags = [pair[1] for pair in train_bag]\n",
    "    count_t1 = len([t for t in tags if t==t1])\n",
    "    count_t2_t1 = 0\n",
    "    for index in range(len(tags)-1):\n",
    "        if tags[index]==t1 and tags[index+1] == t2:\n",
    "            count_t2_t1 += 1\n",
    "    return (count_t2_t1, count_t1)"
   ]
  },
  {
   "cell_type": "code",
   "execution_count": 19,
   "metadata": {},
   "outputs": [
    {
     "name": "stdout",
     "output_type": "stream",
     "text": [
      "(4250, 6077)\n",
      "(4250, 6077)\n",
      "(5281, 8276)\n",
      "(1420, 12901)\n"
     ]
    }
   ],
   "source": [
    "# examples\n",
    "print(t2_given_t1(t2='NOUN', t1='ADJ'))\n",
    "print(t2_given_t1('NOUN', 'ADJ'))\n",
    "print(t2_given_t1('NOUN', 'DET'))\n",
    "print(t2_given_t1('NOUN', 'VERB'))"
   ]
  },
  {
   "cell_type": "code",
   "execution_count": 20,
   "metadata": {},
   "outputs": [],
   "source": [
    "# creating t x t transition matrix of tags\n",
    "# each column is t2, each row is t1\n",
    "# thus M(i, j) represents P(tj given ti)\n",
    "\n",
    "tags_matrix = np.zeros((len(ltag), len(ltag)), dtype='float32')\n",
    "for i, t1 in enumerate(list(ltag)):\n",
    "    for j, t2 in enumerate(list(ltag)): \n",
    "        tags_matrix[i, j] = t2_given_t1(t2, t1)[0]/t2_given_t1(t2, t1)[1]"
   ]
  },
  {
   "cell_type": "code",
   "execution_count": 21,
   "metadata": {},
   "outputs": [
    {
     "data": {
      "text/html": [
       "<div>\n",
       "<style scoped>\n",
       "    .dataframe tbody tr th:only-of-type {\n",
       "        vertical-align: middle;\n",
       "    }\n",
       "\n",
       "    .dataframe tbody tr th {\n",
       "        vertical-align: top;\n",
       "    }\n",
       "\n",
       "    .dataframe thead th {\n",
       "        text-align: right;\n",
       "    }\n",
       "</style>\n",
       "<table border=\"1\" class=\"dataframe\">\n",
       "  <thead>\n",
       "    <tr style=\"text-align: right;\">\n",
       "      <th></th>\n",
       "      <th>PRT</th>\n",
       "      <th>X</th>\n",
       "      <th>.</th>\n",
       "      <th>DET</th>\n",
       "      <th>ADV</th>\n",
       "      <th>PRON</th>\n",
       "      <th>NUM</th>\n",
       "      <th>ADJ</th>\n",
       "      <th>VERB</th>\n",
       "      <th>CONJ</th>\n",
       "      <th>ADP</th>\n",
       "      <th>NOUN</th>\n",
       "    </tr>\n",
       "  </thead>\n",
       "  <tbody>\n",
       "    <tr>\n",
       "      <td>PRT</td>\n",
       "      <td>0.001970</td>\n",
       "      <td>0.013465</td>\n",
       "      <td>0.042036</td>\n",
       "      <td>0.099836</td>\n",
       "      <td>0.009524</td>\n",
       "      <td>0.017077</td>\n",
       "      <td>0.056486</td>\n",
       "      <td>0.088670</td>\n",
       "      <td>0.400985</td>\n",
       "      <td>0.002299</td>\n",
       "      <td>0.021018</td>\n",
       "      <td>0.246634</td>\n",
       "    </tr>\n",
       "    <tr>\n",
       "      <td>X</td>\n",
       "      <td>0.184031</td>\n",
       "      <td>0.074598</td>\n",
       "      <td>0.162876</td>\n",
       "      <td>0.055034</td>\n",
       "      <td>0.026245</td>\n",
       "      <td>0.055193</td>\n",
       "      <td>0.002704</td>\n",
       "      <td>0.017019</td>\n",
       "      <td>0.205503</td>\n",
       "      <td>0.010498</td>\n",
       "      <td>0.144902</td>\n",
       "      <td>0.061397</td>\n",
       "    </tr>\n",
       "    <tr>\n",
       "      <td>.</td>\n",
       "      <td>0.002424</td>\n",
       "      <td>0.026930</td>\n",
       "      <td>0.092639</td>\n",
       "      <td>0.173519</td>\n",
       "      <td>0.051975</td>\n",
       "      <td>0.065978</td>\n",
       "      <td>0.080790</td>\n",
       "      <td>0.043357</td>\n",
       "      <td>0.088689</td>\n",
       "      <td>0.058169</td>\n",
       "      <td>0.091472</td>\n",
       "      <td>0.223968</td>\n",
       "    </tr>\n",
       "    <tr>\n",
       "      <td>DET</td>\n",
       "      <td>0.000242</td>\n",
       "      <td>0.045433</td>\n",
       "      <td>0.017641</td>\n",
       "      <td>0.005437</td>\n",
       "      <td>0.012204</td>\n",
       "      <td>0.003746</td>\n",
       "      <td>0.022354</td>\n",
       "      <td>0.205776</td>\n",
       "      <td>0.039149</td>\n",
       "      <td>0.000483</td>\n",
       "      <td>0.009425</td>\n",
       "      <td>0.638110</td>\n",
       "    </tr>\n",
       "    <tr>\n",
       "      <td>ADV</td>\n",
       "      <td>0.014526</td>\n",
       "      <td>0.023770</td>\n",
       "      <td>0.135358</td>\n",
       "      <td>0.069330</td>\n",
       "      <td>0.079564</td>\n",
       "      <td>0.014526</td>\n",
       "      <td>0.030373</td>\n",
       "      <td>0.128755</td>\n",
       "      <td>0.344008</td>\n",
       "      <td>0.007263</td>\n",
       "      <td>0.119842</td>\n",
       "      <td>0.032684</td>\n",
       "    </tr>\n",
       "    <tr>\n",
       "      <td>PRON</td>\n",
       "      <td>0.012237</td>\n",
       "      <td>0.094455</td>\n",
       "      <td>0.040535</td>\n",
       "      <td>0.009943</td>\n",
       "      <td>0.033270</td>\n",
       "      <td>0.007648</td>\n",
       "      <td>0.007648</td>\n",
       "      <td>0.071893</td>\n",
       "      <td>0.485277</td>\n",
       "      <td>0.004971</td>\n",
       "      <td>0.022180</td>\n",
       "      <td>0.209943</td>\n",
       "    </tr>\n",
       "    <tr>\n",
       "      <td>NUM</td>\n",
       "      <td>0.027389</td>\n",
       "      <td>0.210182</td>\n",
       "      <td>0.116404</td>\n",
       "      <td>0.003275</td>\n",
       "      <td>0.003275</td>\n",
       "      <td>0.001489</td>\n",
       "      <td>0.186365</td>\n",
       "      <td>0.033641</td>\n",
       "      <td>0.016672</td>\n",
       "      <td>0.013992</td>\n",
       "      <td>0.033046</td>\n",
       "      <td>0.354272</td>\n",
       "    </tr>\n",
       "    <tr>\n",
       "      <td>ADJ</td>\n",
       "      <td>0.010367</td>\n",
       "      <td>0.021063</td>\n",
       "      <td>0.065987</td>\n",
       "      <td>0.004608</td>\n",
       "      <td>0.004937</td>\n",
       "      <td>0.000494</td>\n",
       "      <td>0.020734</td>\n",
       "      <td>0.066645</td>\n",
       "      <td>0.011683</td>\n",
       "      <td>0.016785</td>\n",
       "      <td>0.077341</td>\n",
       "      <td>0.699358</td>\n",
       "    </tr>\n",
       "    <tr>\n",
       "      <td>VERB</td>\n",
       "      <td>0.031005</td>\n",
       "      <td>0.217968</td>\n",
       "      <td>0.035036</td>\n",
       "      <td>0.133633</td>\n",
       "      <td>0.082474</td>\n",
       "      <td>0.036121</td>\n",
       "      <td>0.022324</td>\n",
       "      <td>0.064879</td>\n",
       "      <td>0.169754</td>\n",
       "      <td>0.005116</td>\n",
       "      <td>0.091621</td>\n",
       "      <td>0.110069</td>\n",
       "    </tr>\n",
       "    <tr>\n",
       "      <td>CONJ</td>\n",
       "      <td>0.004638</td>\n",
       "      <td>0.008349</td>\n",
       "      <td>0.036178</td>\n",
       "      <td>0.118738</td>\n",
       "      <td>0.055195</td>\n",
       "      <td>0.058442</td>\n",
       "      <td>0.041280</td>\n",
       "      <td>0.118738</td>\n",
       "      <td>0.153525</td>\n",
       "      <td>0.000464</td>\n",
       "      <td>0.053340</td>\n",
       "      <td>0.351113</td>\n",
       "    </tr>\n",
       "    <tr>\n",
       "      <td>ADP</td>\n",
       "      <td>0.001386</td>\n",
       "      <td>0.035391</td>\n",
       "      <td>0.039441</td>\n",
       "      <td>0.323100</td>\n",
       "      <td>0.013538</td>\n",
       "      <td>0.069502</td>\n",
       "      <td>0.062360</td>\n",
       "      <td>0.106385</td>\n",
       "      <td>0.008421</td>\n",
       "      <td>0.000853</td>\n",
       "      <td>0.017162</td>\n",
       "      <td>0.322460</td>\n",
       "    </tr>\n",
       "    <tr>\n",
       "      <td>NOUN</td>\n",
       "      <td>0.043714</td>\n",
       "      <td>0.028657</td>\n",
       "      <td>0.240703</td>\n",
       "      <td>0.013198</td>\n",
       "      <td>0.017355</td>\n",
       "      <td>0.004886</td>\n",
       "      <td>0.009443</td>\n",
       "      <td>0.011922</td>\n",
       "      <td>0.147185</td>\n",
       "      <td>0.042730</td>\n",
       "      <td>0.176790</td>\n",
       "      <td>0.263417</td>\n",
       "    </tr>\n",
       "  </tbody>\n",
       "</table>\n",
       "</div>"
      ],
      "text/plain": [
       "           PRT         X         .       DET       ADV      PRON       NUM  \\\n",
       "PRT   0.001970  0.013465  0.042036  0.099836  0.009524  0.017077  0.056486   \n",
       "X     0.184031  0.074598  0.162876  0.055034  0.026245  0.055193  0.002704   \n",
       ".     0.002424  0.026930  0.092639  0.173519  0.051975  0.065978  0.080790   \n",
       "DET   0.000242  0.045433  0.017641  0.005437  0.012204  0.003746  0.022354   \n",
       "ADV   0.014526  0.023770  0.135358  0.069330  0.079564  0.014526  0.030373   \n",
       "PRON  0.012237  0.094455  0.040535  0.009943  0.033270  0.007648  0.007648   \n",
       "NUM   0.027389  0.210182  0.116404  0.003275  0.003275  0.001489  0.186365   \n",
       "ADJ   0.010367  0.021063  0.065987  0.004608  0.004937  0.000494  0.020734   \n",
       "VERB  0.031005  0.217968  0.035036  0.133633  0.082474  0.036121  0.022324   \n",
       "CONJ  0.004638  0.008349  0.036178  0.118738  0.055195  0.058442  0.041280   \n",
       "ADP   0.001386  0.035391  0.039441  0.323100  0.013538  0.069502  0.062360   \n",
       "NOUN  0.043714  0.028657  0.240703  0.013198  0.017355  0.004886  0.009443   \n",
       "\n",
       "           ADJ      VERB      CONJ       ADP      NOUN  \n",
       "PRT   0.088670  0.400985  0.002299  0.021018  0.246634  \n",
       "X     0.017019  0.205503  0.010498  0.144902  0.061397  \n",
       ".     0.043357  0.088689  0.058169  0.091472  0.223968  \n",
       "DET   0.205776  0.039149  0.000483  0.009425  0.638110  \n",
       "ADV   0.128755  0.344008  0.007263  0.119842  0.032684  \n",
       "PRON  0.071893  0.485277  0.004971  0.022180  0.209943  \n",
       "NUM   0.033641  0.016672  0.013992  0.033046  0.354272  \n",
       "ADJ   0.066645  0.011683  0.016785  0.077341  0.699358  \n",
       "VERB  0.064879  0.169754  0.005116  0.091621  0.110069  \n",
       "CONJ  0.118738  0.153525  0.000464  0.053340  0.351113  \n",
       "ADP   0.106385  0.008421  0.000853  0.017162  0.322460  \n",
       "NOUN  0.011922  0.147185  0.042730  0.176790  0.263417  "
      ]
     },
     "execution_count": 21,
     "metadata": {},
     "output_type": "execute_result"
    }
   ],
   "source": [
    "\n",
    "# convert the matrix to a df for better readability\n",
    "tags_df = pd.DataFrame(tags_matrix, columns = list(ltag), index=list(ltag))\n",
    "tags_df"
   ]
  },
  {
   "cell_type": "code",
   "execution_count": 22,
   "metadata": {},
   "outputs": [
    {
     "name": "stdout",
     "output_type": "stream",
     "text": [
      "PRT     0.002424\n",
      "X       0.026930\n",
      ".       0.092639\n",
      "DET     0.173519\n",
      "ADV     0.051975\n",
      "PRON    0.065978\n",
      "NUM     0.080790\n",
      "ADJ     0.043357\n",
      "VERB    0.088689\n",
      "CONJ    0.058169\n",
      "ADP     0.091472\n",
      "NOUN    0.223968\n",
      "Name: ., dtype: float32\n"
     ]
    }
   ],
   "source": [
    "print(tags_df.loc['.', :])"
   ]
  },
  {
   "cell_type": "code",
   "execution_count": 23,
   "metadata": {},
   "outputs": [
    {
     "data": {
      "image/png": "[encoded data removed]",
      "text/plain": [
       "<Figure size 1296x864 with 2 Axes>"
      ]
     },
     "metadata": {
      "needs_background": "light"
     },
     "output_type": "display_data"
    }
   ],
   "source": [
    "# heatmap of tags matrix\n",
    "# T(i, j) indicates P(tag j given tag i)\n",
    "plt.figure(figsize=(18, 12))\n",
    "sns.heatmap(tags_df)\n",
    "plt.show()"
   ]
  },
  {
   "cell_type": "code",
   "execution_count": 24,
   "metadata": {},
   "outputs": [
    {
     "data": {
      "image/png": "[encoded data removed]",
      "text/plain": [
       "<Figure size 1296x864 with 2 Axes>"
      ]
     },
     "metadata": {
      "needs_background": "light"
     },
     "output_type": "display_data"
    }
   ],
   "source": [
    "# frequent tags\n",
    "# filter the df to get P(t2, t1) > 0.5\n",
    "tags_frequent = tags_df[tags_df>0.5]\n",
    "plt.figure(figsize=(18, 12))\n",
    "sns.heatmap(tags_frequent)\n",
    "plt.show()"
   ]
  },
  {
   "cell_type": "code",
   "execution_count": 25,
   "metadata": {},
   "outputs": [],
   "source": [
    "# Viterbi Heuristic\n",
    "def Viterbi(words, train_bag = train_tagged_words):\n",
    "    state = []\n",
    "    T = list(set([pair[1] for pair in train_bag]))\n",
    "    \n",
    "    for key, word in enumerate(words):\n",
    "        #initialise list of probability column for a given observation\n",
    "        p = [] \n",
    "        for tag in T:\n",
    "            if key == 0:\n",
    "                transition_p = tags_df.loc['.', tag]\n",
    "            else:\n",
    "                transition_p = tags_df.loc[state[-1], tag]\n",
    "                \n",
    "            # compute emission and state probabilities\n",
    "            emission_p = word_given_tag(words[key], tag)[0]/word_given_tag(words[key], tag)[1]\n",
    "            state_probability = emission_p * transition_p    \n",
    "            p.append(state_probability)\n",
    "            \n",
    "        pmax = max(p)\n",
    "        # getting state for which probability is maximum\n",
    "        state_max = T[p.index(pmax)] \n",
    "        state.append(state_max)\n",
    "    return list(zip(words, state))"
   ]
  },
  {
   "cell_type": "code",
   "execution_count": 26,
   "metadata": {},
   "outputs": [
    {
     "data": {
      "text/plain": [
       "[[('``', '.'),\n",
       "  ('Nasty', 'ADJ'),\n",
       "  ('innuendoes', 'NOUN'),\n",
       "  (',', '.'),\n",
       "  (\"''\", '.'),\n",
       "  ('says', 'VERB'),\n",
       "  ('*-2', 'X'),\n",
       "  ('John', 'NOUN'),\n",
       "  ('Siegal', 'NOUN'),\n",
       "  (',', '.'),\n",
       "  ('Mr.', 'NOUN'),\n",
       "  ('Dinkins', 'NOUN'),\n",
       "  (\"'s\", 'PRT'),\n",
       "  ('issues', 'NOUN'),\n",
       "  ('director', 'NOUN'),\n",
       "  (',', '.'),\n",
       "  ('``', '.'),\n",
       "  ('designed', 'VERB'),\n",
       "  ('*', 'X'),\n",
       "  ('*-1', 'X'),\n",
       "  ('to', 'PRT'),\n",
       "  ('prosecute', 'VERB'),\n",
       "  ('a', 'DET'),\n",
       "  ('case', 'NOUN'),\n",
       "  ('of', 'ADP'),\n",
       "  ('political', 'ADJ'),\n",
       "  ('corruption', 'NOUN'),\n",
       "  ('that', 'DET'),\n",
       "  ('*T*-74', 'X'),\n",
       "  ('simply', 'ADV'),\n",
       "  ('does', 'VERB'),\n",
       "  (\"n't\", 'ADV'),\n",
       "  ('exist', 'VERB'),\n",
       "  ('.', '.'),\n",
       "  (\"''\", '.')],\n",
       " [('Mr.', 'NOUN'),\n",
       "  ('Leinonen', 'NOUN'),\n",
       "  ('said', 'VERB'),\n",
       "  ('0', 'X'),\n",
       "  ('he', 'PRON'),\n",
       "  ('expects', 'VERB'),\n",
       "  ('Ford', 'NOUN'),\n",
       "  ('to', 'PRT'),\n",
       "  ('meet', 'VERB'),\n",
       "  ('the', 'DET'),\n",
       "  ('deadline', 'NOUN'),\n",
       "  ('easily', 'ADV'),\n",
       "  ('.', '.')],\n",
       " [('Such', 'DET'),\n",
       "  ('an', 'DET'),\n",
       "  ('editorial', 'NOUN'),\n",
       "  ('point', 'NOUN'),\n",
       "  ('of', 'ADP'),\n",
       "  ('view', 'NOUN'),\n",
       "  ('perpetuates', 'VERB'),\n",
       "  ('an', 'DET'),\n",
       "  ('insidious', 'ADJ'),\n",
       "  (',', '.'),\n",
       "  ('stereotyped', 'ADJ'),\n",
       "  ('perspective', 'NOUN'),\n",
       "  ('.', '.')],\n",
       " [('``', '.'),\n",
       "  ('There', 'DET'),\n",
       "  (\"'s\", 'VERB'),\n",
       "  ('an', 'DET'),\n",
       "  ('understanding', 'NOUN'),\n",
       "  ('*ICH*-1', 'X'),\n",
       "  ('on', 'ADP'),\n",
       "  ('the', 'DET'),\n",
       "  ('part', 'NOUN'),\n",
       "  ('of', 'ADP'),\n",
       "  ('the', 'DET'),\n",
       "  ('U.S.', 'NOUN'),\n",
       "  ('that', 'ADP'),\n",
       "  ('Japan', 'NOUN'),\n",
       "  ('has', 'VERB'),\n",
       "  ('*-2', 'X'),\n",
       "  ('to', 'PRT'),\n",
       "  ('expand', 'VERB'),\n",
       "  ('its', 'PRON'),\n",
       "  ('functions', 'NOUN'),\n",
       "  (\"''\", '.'),\n",
       "  ('in', 'ADP'),\n",
       "  ('Asia', 'NOUN'),\n",
       "  (',', '.'),\n",
       "  ('says', 'VERB'),\n",
       "  ('0', 'X'),\n",
       "  ('*T*-3', 'X'),\n",
       "  ('J.', 'NOUN'),\n",
       "  ('Michael', 'NOUN'),\n",
       "  ('Farren', 'NOUN'),\n",
       "  (',', '.'),\n",
       "  ('undersecretary', 'NOUN'),\n",
       "  ('of', 'ADP'),\n",
       "  ('commerce', 'NOUN'),\n",
       "  ('for', 'ADP'),\n",
       "  ('trade', 'NOUN'),\n",
       "  ('.', '.')],\n",
       " [('Speculation', 'NOUN'),\n",
       "  ('about', 'ADP'),\n",
       "  ('Coniston', 'NOUN'),\n",
       "  ('has', 'VERB'),\n",
       "  ('caused', 'VERB'),\n",
       "  ('the', 'DET'),\n",
       "  ('stock', 'NOUN'),\n",
       "  ('to', 'PRT'),\n",
       "  ('rebound', 'VERB'),\n",
       "  ('from', 'ADP'),\n",
       "  ('a', 'DET'),\n",
       "  ('low', 'ADJ'),\n",
       "  ('of', 'ADP'),\n",
       "  ('$', '.'),\n",
       "  ('145', 'NUM'),\n",
       "  ('*U*', 'X'),\n",
       "  ('.', '.')]]"
      ]
     },
     "execution_count": 26,
     "metadata": {},
     "output_type": "execute_result"
    }
   ],
   "source": [
    "# Running on entire test dataset would take more than 3-4hrs. \n",
    "# Let's test our Viterbi algorithm on a few sample sentences of test dataset\n",
    "\n",
    "random.seed(1234)\n",
    "\n",
    "# choose random 5 sents\n",
    "rndom = [random.randint(1,len(test_set)) for x in range(5)]\n",
    "\n",
    "# list of sents\n",
    "test_run = [test_set[i] for i in rndom]\n",
    "\n",
    "# list of tagged words\n",
    "test_run_base = [tup for sent in test_run for tup in sent]\n",
    "\n",
    "# list of untagged words\n",
    "test_tagged_words = [tup[0] for sent in test_run for tup in sent]\n",
    "test_run"
   ]
  },
  {
   "cell_type": "code",
   "execution_count": 27,
   "metadata": {},
   "outputs": [],
   "source": [
    "# tagging the test sentences\n",
    "start = time.time()\n",
    "tagged_seq = Viterbi(test_tagged_words)\n",
    "end = time.time()\n",
    "difference = end-start"
   ]
  },
  {
   "cell_type": "code",
   "execution_count": 28,
   "metadata": {},
   "outputs": [
    {
     "name": "stdout",
     "output_type": "stream",
     "text": [
      "Time taken in seconds:  20.231112003326416\n"
     ]
    }
   ],
   "source": [
    "print(\"Time taken in seconds: \", difference)"
   ]
  },
  {
   "cell_type": "code",
   "execution_count": 29,
   "metadata": {},
   "outputs": [
    {
     "name": "stdout",
     "output_type": "stream",
     "text": [
      "[('``', '.'), ('Nasty', 'PRT'), ('innuendoes', 'PRT'), (',', '.'), (\"''\", '.'), ('says', 'VERB'), ('*-2', 'X'), ('John', 'NOUN'), ('Siegal', 'PRT'), (',', '.'), ('Mr.', 'NOUN'), ('Dinkins', 'NOUN'), (\"'s\", 'PRT'), ('issues', 'NOUN'), ('director', 'NOUN'), (',', '.'), ('``', '.'), ('designed', 'VERB'), ('*', 'X'), ('*-1', 'X'), ('to', 'PRT'), ('prosecute', 'PRT'), ('a', 'DET'), ('case', 'NOUN'), ('of', 'ADP'), ('political', 'ADJ'), ('corruption', 'NOUN'), ('that', 'ADP'), ('*T*-74', 'X'), ('simply', 'ADV'), ('does', 'VERB'), (\"n't\", 'ADV'), ('exist', 'VERB'), ('.', '.'), (\"''\", '.'), ('Mr.', 'NOUN'), ('Leinonen', 'NOUN'), ('said', 'VERB'), ('0', 'X'), ('he', 'PRON'), ('expects', 'VERB'), ('Ford', 'NOUN'), ('to', 'PRT'), ('meet', 'VERB'), ('the', 'DET'), ('deadline', 'NOUN'), ('easily', 'ADV'), ('.', '.'), ('Such', 'ADJ'), ('an', 'DET'), ('editorial', 'NOUN'), ('point', 'NOUN'), ('of', 'ADP'), ('view', 'NOUN'), ('perpetuates', 'PRT'), ('an', 'DET'), ('insidious', 'PRT'), (',', '.'), ('stereotyped', 'PRT'), ('perspective', 'PRT'), ('.', '.'), ('``', '.'), ('There', 'DET'), (\"'s\", 'VERB'), ('an', 'DET'), ('understanding', 'NOUN'), ('*ICH*-1', 'X'), ('on', 'ADP'), ('the', 'DET'), ('part', 'NOUN'), ('of', 'ADP'), ('the', 'DET'), ('U.S.', 'NOUN'), ('that', 'ADP'), ('Japan', 'NOUN'), ('has', 'VERB'), ('*-2', 'X'), ('to', 'PRT'), ('expand', 'VERB'), ('its', 'PRON'), ('functions', 'NOUN'), (\"''\", '.'), ('in', 'ADP'), ('Asia', 'NOUN'), (',', '.'), ('says', 'VERB'), ('0', 'X'), ('*T*-3', 'X'), ('J.', 'NOUN'), ('Michael', 'NOUN'), ('Farren', 'PRT'), (',', '.'), ('undersecretary', 'NOUN'), ('of', 'ADP'), ('commerce', 'NOUN'), ('for', 'ADP'), ('trade', 'NOUN'), ('.', '.'), ('Speculation', 'NOUN'), ('about', 'ADP'), ('Coniston', 'NOUN'), ('has', 'VERB'), ('caused', 'VERB'), ('the', 'DET'), ('stock', 'NOUN'), ('to', 'PRT'), ('rebound', 'NOUN'), ('from', 'ADP'), ('a', 'DET'), ('low', 'ADJ'), ('of', 'ADP'), ('$', '.'), ('145', 'NUM'), ('*U*', 'X'), ('.', '.')]\n"
     ]
    }
   ],
   "source": [
    "print(tagged_seq)"
   ]
  },
  {
   "cell_type": "code",
   "execution_count": 30,
   "metadata": {},
   "outputs": [
    {
     "name": "stdout",
     "output_type": "stream",
     "text": [
      "0.8956521739130435\n"
     ]
    }
   ],
   "source": [
    "# Get accuracy of model\n",
    "check = [i for i, j in zip(tagged_seq, test_run_base) if i == j] \n",
    "accuracy = len(check)/len(tagged_seq)\n",
    "print(accuracy)"
   ]
  },
  {
   "cell_type": "markdown",
   "metadata": {},
   "source": [
    "The accuracy of the Vanilla Viterbi Model is `88.88%`"
   ]
  },
  {
   "cell_type": "markdown",
   "metadata": {},
   "source": [
    "Now, we compare the accuracy with the test sample sentences, provided as part of the assignment"
   ]
  },
  {
   "cell_type": "markdown",
   "metadata": {},
   "source": [
    "#### Load the Sample Test Sentences File"
   ]
  },
  {
   "cell_type": "code",
   "execution_count": 31,
   "metadata": {},
   "outputs": [],
   "source": [
    "# Assign the path of the local dir to a variable. \n",
    "#This path must be updated, if the notebook is being executed on a different machine.\n",
    "\n",
    "Local_Dir = r\"C:\\DS_Learning\\Data_Science_IITB\\NLP\\Assignment\"\n",
    "\n",
    "lfile = r\"\\Sample_Test_Sentences.txt\"\n",
    "\n",
    "Sample_Sentences = str(Local_Dir + lfile)\n"
   ]
  },
  {
   "cell_type": "code",
   "execution_count": 32,
   "metadata": {},
   "outputs": [
    {
     "name": "stdout",
     "output_type": "stream",
     "text": [
      "Android is a mobile operating system developed by Google.\n",
      "\n",
      "Android has been the best-selling OS worldwide on smartphones since 2011 and on tablets since 2013.\n",
      "\n",
      "Google and Twitter made a deal in 2015 that gave Google access to Twitter's firehose.\n",
      "\n",
      "Twitter is an online news and social networking service on which users post and interact with messages known as tweets.\n",
      "\n",
      "Before entering politics, Donald Trump was a domineering businessman and a television personality.\n",
      "\n",
      "The 2018 FIFA World Cup is the 21st FIFA World Cup, an international football tournament contested once every four years.\n",
      "\n",
      "This is the first World Cup to be held in Eastern Europe and the 11th time that it has been held in Europe.\n",
      "\n",
      "Show me the cheapest round trips from Dallas to Atlanta\n",
      "\n",
      "I would like to see flights from Denver to Philadelphia.\n",
      "\n",
      "Show me the price of the flights leaving Atlanta at about 3 in the afternoon and arriving in San Francisco.\n",
      "\n",
      "NASA invited social media users to experience the launch of ICESAT-2 Satellite.\n",
      "\n",
      "\n",
      "\n",
      "\n",
      "\n"
     ]
    }
   ],
   "source": [
    "#Read the sample sentences\n",
    "sent =[]\n",
    "corpus = open(Sample_Sentences, \"r\")\n",
    "for item in corpus:\n",
    "    print(item)\n",
    "    sent.append(item)"
   ]
  },
  {
   "cell_type": "markdown",
   "metadata": {},
   "source": [
    "### Solve the problem of unknown words"
   ]
  },
  {
   "cell_type": "code",
   "execution_count": 33,
   "metadata": {},
   "outputs": [
    {
     "name": "stdout",
     "output_type": "stream",
     "text": [
      "['Android is a mobile operating system developed by Google.\\n', 'Android has been the best-selling OS worldwide on smartphones since 2011 and on tablets since 2013.\\n', \"Google and Twitter made a deal in 2015 that gave Google access to Twitter's firehose.\\n\", 'Twitter is an online news and social networking service on which users post and interact with messages known as tweets.\\n', 'Before entering politics, Donald Trump was a domineering businessman and a television personality.\\n', 'The 2018 FIFA World Cup is the 21st FIFA World Cup, an international football tournament contested once every four years.\\n', 'This is the first World Cup to be held in Eastern Europe and the 11th time that it has been held in Europe.\\n', 'Show me the cheapest round trips from Dallas to Atlanta\\n', 'I would like to see flights from Denver to Philadelphia.\\n', 'Show me the price of the flights leaving Atlanta at about 3 in the afternoon and arriving in San Francisco.\\n', 'NASA invited social media users to experience the launch of ICESAT-2 Satellite.\\n', '\\n', '\\n']\n"
     ]
    }
   ],
   "source": [
    "print(sent)"
   ]
  },
  {
   "cell_type": "code",
   "execution_count": 34,
   "metadata": {},
   "outputs": [
    {
     "data": {
      "text/plain": [
       "['Android is a mobile operating system developed by Google.',\n",
       " 'Android has been the best-selling OS worldwide on smartphones since 2011 and on tablets since 2013.',\n",
       " \"Google and Twitter made a deal in 2015 that gave Google access to Twitter's firehose.\",\n",
       " 'Twitter is an online news and social networking service on which users post and interact with messages known as tweets.',\n",
       " 'Before entering politics, Donald Trump was a domineering businessman and a television personality.',\n",
       " 'The 2018 FIFA World Cup is the 21st FIFA World Cup, an international football tournament contested once every four years.',\n",
       " 'This is the first World Cup to be held in Eastern Europe and the 11th time that it has been held in Europe.',\n",
       " 'Show me the cheapest round trips from Dallas to Atlanta',\n",
       " 'I would like to see flights from Denver to Philadelphia.',\n",
       " 'Show me the price of the flights leaving Atlanta at about 3 in the afternoon and arriving in San Francisco.',\n",
       " 'NASA invited social media users to experience the launch of ICESAT-2 Satellite.']"
      ]
     },
     "execution_count": 34,
     "metadata": {},
     "output_type": "execute_result"
    }
   ],
   "source": [
    "#Remove the special characters and empty strings from the corpus \n",
    "sample_test_corpus =[line.rstrip() for line in sent if line.rstrip()!='']\n",
    "sample_test_corpus"
   ]
  },
  {
   "cell_type": "code",
   "execution_count": 35,
   "metadata": {},
   "outputs": [],
   "source": [
    "#Get the words in the test set which are incorrectly classified\n",
    "incorrect_tagged_cases = [[test_run_base[i-1],j] for i, j in enumerate(zip(tagged_seq, test_run_base)) if j[0]!=j[1]]"
   ]
  },
  {
   "cell_type": "code",
   "execution_count": 36,
   "metadata": {},
   "outputs": [
    {
     "data": {
      "text/plain": [
       "[[('``', '.'), (('Nasty', 'PRT'), ('Nasty', 'ADJ'))],\n",
       " [('Nasty', 'ADJ'), (('innuendoes', 'PRT'), ('innuendoes', 'NOUN'))],\n",
       " [('John', 'NOUN'), (('Siegal', 'PRT'), ('Siegal', 'NOUN'))],\n",
       " [('to', 'PRT'), (('prosecute', 'PRT'), ('prosecute', 'VERB'))],\n",
       " [('corruption', 'NOUN'), (('that', 'ADP'), ('that', 'DET'))],\n",
       " [('.', '.'), (('Such', 'ADJ'), ('Such', 'DET'))],\n",
       " [('view', 'NOUN'), (('perpetuates', 'PRT'), ('perpetuates', 'VERB'))],\n",
       " [('an', 'DET'), (('insidious', 'PRT'), ('insidious', 'ADJ'))],\n",
       " [(',', '.'), (('stereotyped', 'PRT'), ('stereotyped', 'ADJ'))],\n",
       " [('stereotyped', 'ADJ'), (('perspective', 'PRT'), ('perspective', 'NOUN'))],\n",
       " [('Michael', 'NOUN'), (('Farren', 'PRT'), ('Farren', 'NOUN'))],\n",
       " [('to', 'PRT'), (('rebound', 'NOUN'), ('rebound', 'VERB'))]]"
      ]
     },
     "execution_count": 36,
     "metadata": {},
     "output_type": "execute_result"
    }
   ],
   "source": [
    "incorrect_tagged_cases"
   ]
  },
  {
   "cell_type": "markdown",
   "metadata": {},
   "source": [
    "#### It seems, almost all the the words, that are not present in training set are assigned the first pos tag"
   ]
  },
  {
   "cell_type": "markdown",
   "metadata": {},
   "source": [
    "#### Let's analyse the Sample Test now"
   ]
  },
  {
   "cell_type": "code",
   "execution_count": 37,
   "metadata": {},
   "outputs": [],
   "source": [
    "#Predictions on the Sample Test Sentences\n",
    "sample_test_pred =[]\n",
    "for item in sample_test_corpus:\n",
    "    sample_test_pred = sample_test_pred + list(Viterbi(word_tokenize(item)))"
   ]
  },
  {
   "cell_type": "code",
   "execution_count": 38,
   "metadata": {},
   "outputs": [
    {
     "data": {
      "text/plain": [
       "[('Android', 'PRT'),\n",
       " ('is', 'VERB'),\n",
       " ('a', 'DET'),\n",
       " ('mobile', 'ADJ'),\n",
       " ('operating', 'NOUN'),\n",
       " ('system', 'NOUN'),\n",
       " ('developed', 'VERB'),\n",
       " ('by', 'ADP'),\n",
       " ('Google', 'PRT'),\n",
       " ('.', '.'),\n",
       " ('Android', 'PRT'),\n",
       " ('has', 'VERB'),\n",
       " ('been', 'VERB'),\n",
       " ('the', 'DET'),\n",
       " ('best-selling', 'ADJ'),\n",
       " ('OS', 'PRT'),\n",
       " ('worldwide', 'PRT'),\n",
       " ('on', 'ADP'),\n",
       " ('smartphones', 'PRT'),\n",
       " ('since', 'ADP'),\n",
       " ('2011', 'PRT'),\n",
       " ('and', 'CONJ'),\n",
       " ('on', 'ADP'),\n",
       " ('tablets', 'NOUN'),\n",
       " ('since', 'ADP'),\n",
       " ('2013', 'PRT'),\n",
       " ('.', '.'),\n",
       " ('Google', 'PRT'),\n",
       " ('and', 'CONJ'),\n",
       " ('Twitter', 'PRT'),\n",
       " ('made', 'VERB'),\n",
       " ('a', 'DET'),\n",
       " ('deal', 'NOUN'),\n",
       " ('in', 'ADP'),\n",
       " ('2015', 'PRT'),\n",
       " ('that', 'DET'),\n",
       " ('gave', 'VERB'),\n",
       " ('Google', 'PRT'),\n",
       " ('access', 'NOUN'),\n",
       " ('to', 'PRT'),\n",
       " ('Twitter', 'PRT'),\n",
       " (\"'s\", 'VERB'),\n",
       " ('firehose', 'PRT'),\n",
       " ('.', '.'),\n",
       " ('Twitter', 'PRT'),\n",
       " ('is', 'VERB'),\n",
       " ('an', 'DET'),\n",
       " ('online', 'PRT'),\n",
       " ('news', 'NOUN'),\n",
       " ('and', 'CONJ'),\n",
       " ('social', 'ADJ'),\n",
       " ('networking', 'NOUN'),\n",
       " ('service', 'NOUN'),\n",
       " ('on', 'ADP'),\n",
       " ('which', 'DET'),\n",
       " ('users', 'NOUN'),\n",
       " ('post', 'NOUN'),\n",
       " ('and', 'CONJ'),\n",
       " ('interact', 'PRT'),\n",
       " ('with', 'ADP'),\n",
       " ('messages', 'PRT'),\n",
       " ('known', 'VERB'),\n",
       " ('as', 'ADP'),\n",
       " ('tweets', 'PRT'),\n",
       " ('.', '.'),\n",
       " ('Before', 'ADP'),\n",
       " ('entering', 'VERB'),\n",
       " ('politics', 'NOUN'),\n",
       " (',', '.'),\n",
       " ('Donald', 'NOUN'),\n",
       " ('Trump', 'PRT'),\n",
       " ('was', 'VERB'),\n",
       " ('a', 'DET'),\n",
       " ('domineering', 'PRT'),\n",
       " ('businessman', 'NOUN'),\n",
       " ('and', 'CONJ'),\n",
       " ('a', 'DET'),\n",
       " ('television', 'NOUN'),\n",
       " ('personality', 'PRT'),\n",
       " ('.', '.'),\n",
       " ('The', 'DET'),\n",
       " ('2018', 'PRT'),\n",
       " ('FIFA', 'PRT'),\n",
       " ('World', 'NOUN'),\n",
       " ('Cup', 'PRT'),\n",
       " ('is', 'VERB'),\n",
       " ('the', 'DET'),\n",
       " ('21st', 'PRT'),\n",
       " ('FIFA', 'PRT'),\n",
       " ('World', 'NOUN'),\n",
       " ('Cup', 'PRT'),\n",
       " (',', '.'),\n",
       " ('an', 'DET'),\n",
       " ('international', 'ADJ'),\n",
       " ('football', 'NOUN'),\n",
       " ('tournament', 'PRT'),\n",
       " ('contested', 'PRT'),\n",
       " ('once', 'ADV'),\n",
       " ('every', 'DET'),\n",
       " ('four', 'NUM'),\n",
       " ('years', 'NOUN'),\n",
       " ('.', '.'),\n",
       " ('This', 'DET'),\n",
       " ('is', 'VERB'),\n",
       " ('the', 'DET'),\n",
       " ('first', 'ADJ'),\n",
       " ('World', 'NOUN'),\n",
       " ('Cup', 'PRT'),\n",
       " ('to', 'PRT'),\n",
       " ('be', 'VERB'),\n",
       " ('held', 'VERB'),\n",
       " ('in', 'ADP'),\n",
       " ('Eastern', 'NOUN'),\n",
       " ('Europe', 'NOUN'),\n",
       " ('and', 'CONJ'),\n",
       " ('the', 'DET'),\n",
       " ('11th', 'ADJ'),\n",
       " ('time', 'NOUN'),\n",
       " ('that', 'ADP'),\n",
       " ('it', 'PRON'),\n",
       " ('has', 'VERB'),\n",
       " ('been', 'VERB'),\n",
       " ('held', 'VERB'),\n",
       " ('in', 'ADP'),\n",
       " ('Europe', 'NOUN'),\n",
       " ('.', '.'),\n",
       " ('Show', 'NOUN'),\n",
       " ('me', 'PRON'),\n",
       " ('the', 'DET'),\n",
       " ('cheapest', 'ADJ'),\n",
       " ('round', 'NOUN'),\n",
       " ('trips', 'PRT'),\n",
       " ('from', 'ADP'),\n",
       " ('Dallas', 'NOUN'),\n",
       " ('to', 'PRT'),\n",
       " ('Atlanta', 'NOUN'),\n",
       " ('I', 'PRON'),\n",
       " ('would', 'VERB'),\n",
       " ('like', 'ADP'),\n",
       " ('to', 'PRT'),\n",
       " ('see', 'VERB'),\n",
       " ('flights', 'NOUN'),\n",
       " ('from', 'ADP'),\n",
       " ('Denver', 'NOUN'),\n",
       " ('to', 'PRT'),\n",
       " ('Philadelphia', 'NOUN'),\n",
       " ('.', '.'),\n",
       " ('Show', 'NOUN'),\n",
       " ('me', 'PRON'),\n",
       " ('the', 'DET'),\n",
       " ('price', 'NOUN'),\n",
       " ('of', 'ADP'),\n",
       " ('the', 'DET'),\n",
       " ('flights', 'NOUN'),\n",
       " ('leaving', 'VERB'),\n",
       " ('Atlanta', 'NOUN'),\n",
       " ('at', 'ADP'),\n",
       " ('about', 'ADP'),\n",
       " ('3', 'NUM'),\n",
       " ('in', 'ADP'),\n",
       " ('the', 'DET'),\n",
       " ('afternoon', 'NOUN'),\n",
       " ('and', 'CONJ'),\n",
       " ('arriving', 'PRT'),\n",
       " ('in', 'ADP'),\n",
       " ('San', 'NOUN'),\n",
       " ('Francisco', 'NOUN'),\n",
       " ('.', '.'),\n",
       " ('NASA', 'PRT'),\n",
       " ('invited', 'PRT'),\n",
       " ('social', 'ADJ'),\n",
       " ('media', 'NOUN'),\n",
       " ('users', 'NOUN'),\n",
       " ('to', 'PRT'),\n",
       " ('experience', 'NOUN'),\n",
       " ('the', 'DET'),\n",
       " ('launch', 'NOUN'),\n",
       " ('of', 'ADP'),\n",
       " ('ICESAT-2', 'PRT'),\n",
       " ('Satellite', 'PRT'),\n",
       " ('.', '.')]"
      ]
     },
     "execution_count": 38,
     "metadata": {},
     "output_type": "execute_result"
    }
   ],
   "source": [
    "sample_test_pred"
   ]
  },
  {
   "cell_type": "markdown",
   "metadata": {},
   "source": [
    "#### The first tag in the training tagset is given for the words such as `mobile`, `Android`, `operating` etc \n",
    "#### Let's verify if these words are present in the training corpus"
   ]
  },
  {
   "cell_type": "code",
   "execution_count": 39,
   "metadata": {},
   "outputs": [],
   "source": [
    "#Get the tokens from the sample test sentences\n",
    "sample_corpus_token = [tokens for item in sample_test_corpus for tokens in word_tokenize(item)]"
   ]
  },
  {
   "cell_type": "code",
   "execution_count": 40,
   "metadata": {},
   "outputs": [],
   "source": [
    "#Get the list of tokens that are present in sample test corpus but not in the training corpus\n",
    "tokens_notin_train_corpus = list(set(sample_corpus_token) - set(tokens))"
   ]
  },
  {
   "cell_type": "code",
   "execution_count": 41,
   "metadata": {},
   "outputs": [
    {
     "data": {
      "text/plain": [
       "['domineering',\n",
       " 'invited',\n",
       " 'FIFA',\n",
       " 'messages',\n",
       " 'trips',\n",
       " 'Twitter',\n",
       " 'Cup',\n",
       " 'Android',\n",
       " '2013',\n",
       " 'worldwide',\n",
       " 'smartphones',\n",
       " 'contested',\n",
       " 'tweets',\n",
       " 'firehose',\n",
       " 'Trump',\n",
       " 'Satellite',\n",
       " 'arriving',\n",
       " 'NASA',\n",
       " 'online',\n",
       " 'interact',\n",
       " '2011',\n",
       " '21st',\n",
       " '2018',\n",
       " 'personality',\n",
       " 'Google',\n",
       " 'ICESAT-2',\n",
       " 'tournament',\n",
       " 'OS',\n",
       " '2015']"
      ]
     },
     "execution_count": 41,
     "metadata": {},
     "output_type": "execute_result"
    }
   ],
   "source": [
    "tokens_notin_train_corpus"
   ]
  },
  {
   "cell_type": "markdown",
   "metadata": {},
   "source": [
    "#### From the above output, it is evident that the words like `Google`, `Twitter`, `domineering` etc are not present in the training corpus and therefore a default tag has been assigned to these words."
   ]
  },
  {
   "cell_type": "code",
   "execution_count": 42,
   "metadata": {},
   "outputs": [
    {
     "data": {
      "text/plain": [
       "[('Android', 'PRT'),\n",
       " ('Google', 'PRT'),\n",
       " ('Android', 'PRT'),\n",
       " ('OS', 'PRT'),\n",
       " ('worldwide', 'PRT'),\n",
       " ('smartphones', 'PRT'),\n",
       " ('2011', 'PRT'),\n",
       " ('2013', 'PRT'),\n",
       " ('Google', 'PRT'),\n",
       " ('Twitter', 'PRT'),\n",
       " ('2015', 'PRT'),\n",
       " ('Google', 'PRT'),\n",
       " ('Twitter', 'PRT'),\n",
       " ('firehose', 'PRT'),\n",
       " ('Twitter', 'PRT'),\n",
       " ('online', 'PRT'),\n",
       " ('interact', 'PRT'),\n",
       " ('messages', 'PRT'),\n",
       " ('tweets', 'PRT'),\n",
       " ('Trump', 'PRT'),\n",
       " ('domineering', 'PRT'),\n",
       " ('personality', 'PRT'),\n",
       " ('2018', 'PRT'),\n",
       " ('FIFA', 'PRT'),\n",
       " ('Cup', 'PRT'),\n",
       " ('21st', 'PRT'),\n",
       " ('FIFA', 'PRT'),\n",
       " ('Cup', 'PRT'),\n",
       " ('tournament', 'PRT'),\n",
       " ('contested', 'PRT'),\n",
       " ('Cup', 'PRT'),\n",
       " ('trips', 'PRT'),\n",
       " ('arriving', 'PRT'),\n",
       " ('NASA', 'PRT'),\n",
       " ('invited', 'PRT'),\n",
       " ('ICESAT-2', 'PRT'),\n",
       " ('Satellite', 'PRT')]"
      ]
     },
     "execution_count": 42,
     "metadata": {},
     "output_type": "execute_result"
    }
   ],
   "source": [
    "#Let's get the  tags predicted for all the unknown words\n",
    "[tup for tup in sample_test_pred for token in tokens_notin_train_corpus if tup[0]== token ]"
   ]
  },
  {
   "cell_type": "markdown",
   "metadata": {},
   "source": [
    "### EDA On The Training Corpus"
   ]
  },
  {
   "cell_type": "code",
   "execution_count": 43,
   "metadata": {},
   "outputs": [
    {
     "data": {
      "text/plain": [
       "Counter({'VERB': 12901,\n",
       "         'PRT': 3045,\n",
       "         'NOUN': 27428,\n",
       "         '.': 11140,\n",
       "         'ADV': 3029,\n",
       "         'DET': 8276,\n",
       "         'ADJ': 6077,\n",
       "         'ADP': 9381,\n",
       "         'X': 6287,\n",
       "         'CONJ': 2156,\n",
       "         'PRON': 2615,\n",
       "         'NUM': 3359})"
      ]
     },
     "execution_count": 43,
     "metadata": {},
     "output_type": "execute_result"
    }
   ],
   "source": [
    "#Let's get the  count of all tags in the training set\n",
    "from collections import Counter\n",
    "tag_counts = Counter(pair[1] for pair in train_tagged_words)\n",
    "tag_counts"
   ]
  },
  {
   "cell_type": "code",
   "execution_count": 44,
   "metadata": {},
   "outputs": [
    {
     "data": {
      "text/plain": [
       "[('NOUN', 27428), ('VERB', 12901), ('.', 11140), ('ADP', 9381), ('DET', 8276)]"
      ]
     },
     "execution_count": 44,
     "metadata": {},
     "output_type": "execute_result"
    }
   ],
   "source": [
    "# the most common tags can be seen using the most_common() method of Counter\n",
    "tag_counts.most_common(5)"
   ]
  },
  {
   "cell_type": "code",
   "execution_count": 45,
   "metadata": {},
   "outputs": [
    {
     "data": {
      "text/plain": [
       "Counter({'PRT': 9, 'ADP': 1, 'ADJ': 1, 'NOUN': 1})"
      ]
     },
     "execution_count": 45,
     "metadata": {},
     "output_type": "execute_result"
    }
   ],
   "source": [
    "#Let's check the count of incorrectly classified words for each tag\n",
    "wrong_tag_counts = Counter(pair[1][0][1] for pair in incorrect_tagged_cases)\n",
    "wrong_tag_counts"
   ]
  },
  {
   "cell_type": "code",
   "execution_count": 46,
   "metadata": {},
   "outputs": [
    {
     "data": {
      "text/plain": [
       "[('According', 'VERB'),\n",
       " ('to', 'PRT'),\n",
       " ('Dr.', 'NOUN'),\n",
       " ('Wright', 'NOUN'),\n",
       " (',', '.'),\n",
       " ('homelessness', 'NOUN'),\n",
       " ('is', 'VERB'),\n",
       " ('``', '.'),\n",
       " ('simultaneously', 'ADV'),\n",
       " ('a', 'DET'),\n",
       " ('housing', 'NOUN'),\n",
       " ('problem', 'NOUN'),\n",
       " (',', '.'),\n",
       " ('an', 'DET'),\n",
       " ('employment', 'NOUN'),\n",
       " ('problem', 'NOUN'),\n",
       " (',', '.'),\n",
       " ('a', 'DET'),\n",
       " ('demographic', 'ADJ'),\n",
       " ('problem', 'NOUN'),\n",
       " (',', '.'),\n",
       " ('a', 'DET'),\n",
       " ('problem', 'NOUN'),\n",
       " ('of', 'ADP'),\n",
       " ('social', 'ADJ'),\n",
       " ('disaffiliation', 'NOUN'),\n",
       " (',', '.'),\n",
       " ('a', 'DET'),\n",
       " ('mental', 'ADJ'),\n",
       " ('health', 'NOUN'),\n",
       " ('problem', 'NOUN'),\n",
       " (',', '.'),\n",
       " ('a', 'DET'),\n",
       " ('family', 'NOUN'),\n",
       " ('violence', 'NOUN'),\n",
       " ('problem', 'NOUN'),\n",
       " (',', '.'),\n",
       " ('a', 'DET'),\n",
       " ('problem', 'NOUN'),\n",
       " ('created', 'VERB'),\n",
       " ('*', 'X'),\n",
       " ('by', 'ADP'),\n",
       " ('the', 'DET'),\n",
       " ('cutbacks', 'NOUN'),\n",
       " ('in', 'ADP'),\n",
       " ('social', 'ADJ'),\n",
       " ('welfare', 'NOUN'),\n",
       " ('spending', 'NOUN'),\n",
       " (',', '.'),\n",
       " ('a', 'DET'),\n",
       " ('problem', 'NOUN'),\n",
       " ('resulting', 'VERB'),\n",
       " ('from', 'ADP'),\n",
       " ('the', 'DET'),\n",
       " ('decay', 'NOUN'),\n",
       " ('of', 'ADP'),\n",
       " ('the', 'DET'),\n",
       " ('traditional', 'ADJ'),\n",
       " ('nuclear', 'ADJ'),\n",
       " ('family', 'NOUN'),\n",
       " (',', '.'),\n",
       " ('and', 'CONJ'),\n",
       " ('a', 'DET'),\n",
       " ('problem', 'NOUN'),\n",
       " ('intimately', 'ADV'),\n",
       " ('connected', 'VERB'),\n",
       " ('to', 'PRT'),\n",
       " ('the', 'DET'),\n",
       " ('recent', 'ADJ'),\n",
       " ('increase', 'NOUN'),\n",
       " ('in', 'ADP'),\n",
       " ('the', 'DET'),\n",
       " ('number', 'NOUN'),\n",
       " ('of', 'ADP'),\n",
       " ('persons', 'NOUN'),\n",
       " ('living', 'VERB'),\n",
       " ('below', 'ADP'),\n",
       " ('the', 'DET'),\n",
       " ('poverty', 'NOUN'),\n",
       " ('level', 'NOUN'),\n",
       " ('.', '.'),\n",
       " (\"''\", '.'),\n",
       " ('*', 'X'),\n",
       " ('Think', 'VERB'),\n",
       " ('about', 'ADP'),\n",
       " ('the', 'DET'),\n",
       " ('good', 'NOUN'),\n",
       " ('0', 'X'),\n",
       " ('you', 'PRON'),\n",
       " ('can', 'VERB'),\n",
       " ('do', 'VERB'),\n",
       " ('*T*-1', 'X'),\n",
       " ('for', 'ADP'),\n",
       " ('just', 'ADV'),\n",
       " ('$', '.'),\n",
       " ('15,000', 'NUM'),\n",
       " ('*U*', 'X'),\n",
       " ('a', 'DET'),\n",
       " ('month', 'NOUN'),\n",
       " (',', '.'),\n",
       " ('about', 'ADV'),\n",
       " ('the', 'DET'),\n",
       " ('cost', 'NOUN'),\n",
       " ('of', 'ADP'),\n",
       " ('a', 'DET'),\n",
       " ('mid-size', 'ADJ'),\n",
       " ('Chevrolet', 'NOUN'),\n",
       " ('or', 'CONJ'),\n",
       " ('two', 'NUM'),\n",
       " ('semesters', 'NOUN'),\n",
       " ('at', 'ADP'),\n",
       " ('a', 'DET'),\n",
       " ('state', 'NOUN'),\n",
       " ('university', 'NOUN'),\n",
       " ('.', '.'),\n",
       " ('They', 'PRON'),\n",
       " ('do', 'VERB'),\n",
       " (\"n't\", 'ADV'),\n",
       " ('have', 'VERB'),\n",
       " ('plans', 'NOUN'),\n",
       " ('*', 'X'),\n",
       " ('to', 'PRT'),\n",
       " ('cut', 'VERB'),\n",
       " ('back', 'ADV'),\n",
       " ('.', '.'),\n",
       " ('--', '.'),\n",
       " ('$', '.'),\n",
       " ('10', 'NUM'),\n",
       " ('billion', 'NUM'),\n",
       " ('*U*', 'X'),\n",
       " ('of', 'ADP'),\n",
       " ('three-year', 'ADJ'),\n",
       " ('notes', 'NOUN'),\n",
       " (',', '.'),\n",
       " ('0', 'X'),\n",
       " ('*T*-1', 'X'),\n",
       " ('to', 'PRT'),\n",
       " ('be', 'VERB'),\n",
       " ('auctioned', 'VERB'),\n",
       " ('*-108', 'X'),\n",
       " ('Tuesday', 'NOUN'),\n",
       " ('and', 'CONJ'),\n",
       " ('to', 'PRT'),\n",
       " ('mature', 'VERB'),\n",
       " ('Nov.', 'NOUN'),\n",
       " ('15', 'NUM'),\n",
       " (',', '.'),\n",
       " ('1992', 'NUM'),\n",
       " ('.', '.'),\n",
       " ('In', 'ADP'),\n",
       " ('a', 'DET'),\n",
       " ('telephone', 'NOUN'),\n",
       " ('interview', 'NOUN'),\n",
       " (',', '.'),\n",
       " ('Mr.', 'NOUN'),\n",
       " ('Reupke', 'NOUN'),\n",
       " ('said', 'VERB'),\n",
       " ('0', 'X'),\n",
       " ('his', 'PRON'),\n",
       " ('departure', 'NOUN'),\n",
       " ('was', 'VERB'),\n",
       " ('for', 'ADP'),\n",
       " ('``', '.'),\n",
       " ('personal', 'ADJ'),\n",
       " ('reasons', 'NOUN'),\n",
       " (',', '.'),\n",
       " (\"''\", '.'),\n",
       " ('which', 'DET'),\n",
       " ('he', 'PRON'),\n",
       " ('declined', 'VERB'),\n",
       " ('*-2', 'X'),\n",
       " ('to', 'PRT'),\n",
       " ('specify', 'VERB'),\n",
       " ('*T*-1', 'X'),\n",
       " ('.', '.'),\n",
       " ('Columbia', 'NOUN'),\n",
       " ('stock', 'NOUN'),\n",
       " ('recently', 'ADV'),\n",
       " ('hit', 'VERB'),\n",
       " ('4', 'NUM'),\n",
       " ('1\\\\/8', 'NUM'),\n",
       " (',', '.'),\n",
       " ('after', 'ADP'),\n",
       " ('*', 'X'),\n",
       " ('reaching', 'VERB'),\n",
       " ('11', 'NUM'),\n",
       " ('3\\\\/4', 'NUM'),\n",
       " ('earlier', 'ADV'),\n",
       " ('this', 'DET'),\n",
       " ('year', 'NOUN'),\n",
       " ('on', 'ADP'),\n",
       " ('rumors', 'NOUN'),\n",
       " ('that', 'ADP'),\n",
       " ('Mr.', 'NOUN'),\n",
       " ('Spiegel', 'NOUN'),\n",
       " ('would', 'VERB'),\n",
       " ('take', 'VERB'),\n",
       " ('the', 'DET'),\n",
       " ('thrift', 'NOUN'),\n",
       " ('private', 'ADJ'),\n",
       " ('.', '.'),\n",
       " ('He', 'PRON'),\n",
       " ('added', 'VERB'),\n",
       " (',', '.'),\n",
       " ('``', '.'),\n",
       " ('This', 'DET'),\n",
       " ('has', 'VERB'),\n",
       " ('nothing', 'NOUN'),\n",
       " ('0', 'X'),\n",
       " ('*', 'X'),\n",
       " ('to', 'PRT'),\n",
       " ('do', 'VERB'),\n",
       " ('*T*-1', 'X'),\n",
       " ('with', 'ADP'),\n",
       " ('Marty', 'NOUN'),\n",
       " ('Ackerman', 'NOUN'),\n",
       " ('and', 'CONJ'),\n",
       " ('it', 'PRON'),\n",
       " ('is', 'VERB'),\n",
       " ('not', 'ADV'),\n",
       " ('designed', 'VERB'),\n",
       " (',', '.'),\n",
       " ('particularly', 'ADV'),\n",
       " (',', '.'),\n",
       " ('*-2', 'X'),\n",
       " ('to', 'PRT'),\n",
       " ('take', 'VERB'),\n",
       " ('the', 'DET'),\n",
       " ('company', 'NOUN'),\n",
       " ('private', 'ADJ'),\n",
       " ('.', '.'),\n",
       " (\"''\", '.'),\n",
       " ('B.A.T', 'NOUN'),\n",
       " ('Industries', 'NOUN'),\n",
       " (',', '.'),\n",
       " ('which', 'DET'),\n",
       " ('*T*-2', 'X'),\n",
       " ('is', 'VERB'),\n",
       " ('being', 'VERB'),\n",
       " ('pursued', 'VERB'),\n",
       " ('*-1', 'X'),\n",
       " ('by', 'ADP'),\n",
       " ('Sir', 'NOUN'),\n",
       " ('James', 'NOUN'),\n",
       " ('Goldsmith', 'NOUN'),\n",
       " (\"'s\", 'PRT'),\n",
       " ('Hoylake', 'NOUN'),\n",
       " ('Investments', 'NOUN'),\n",
       " (',', '.'),\n",
       " ('rose', 'VERB'),\n",
       " ('9', 'NUM'),\n",
       " ('to', 'PRT'),\n",
       " ('753', 'NUM'),\n",
       " ('on', 'ADP'),\n",
       " ('speculation', 'NOUN'),\n",
       " ('that', 'ADP'),\n",
       " ('Hoylake', 'NOUN'),\n",
       " ('will', 'VERB'),\n",
       " ('sweeten', 'VERB'),\n",
       " ('its', 'PRON'),\n",
       " ('bid', 'NOUN'),\n",
       " (',', '.'),\n",
       " ('dealers', 'NOUN'),\n",
       " ('said', 'VERB'),\n",
       " ('0', 'X'),\n",
       " ('*T*-3', 'X'),\n",
       " ('.', '.'),\n",
       " ('``', '.'),\n",
       " ('You', 'PRON'),\n",
       " ('have', 'VERB'),\n",
       " ('...', '.'),\n",
       " ('raised', 'VERB'),\n",
       " ('important', 'ADJ'),\n",
       " ('questions', 'NOUN'),\n",
       " ('which', 'DET'),\n",
       " ('*T*-26', 'X'),\n",
       " ('ought', 'VERB'),\n",
       " ('*-2', 'X'),\n",
       " ('to', 'PRT'),\n",
       " ('be', 'VERB'),\n",
       " ('answered', 'VERB'),\n",
       " ('*-3', 'X'),\n",
       " (':', '.'),\n",
       " ('What', 'PRON'),\n",
       " ('does', 'VERB'),\n",
       " ('USIA', 'NOUN'),\n",
       " ('say', 'VERB'),\n",
       " ('*T*-27', 'X'),\n",
       " ('about', 'ADP'),\n",
       " ('America', 'NOUN'),\n",
       " ('abroad', 'ADV'),\n",
       " (';', '.'),\n",
       " ('how', 'ADV'),\n",
       " ('do', 'VERB'),\n",
       " ('we', 'PRON'),\n",
       " ('say', 'VERB'),\n",
       " ('it', 'PRON'),\n",
       " ('*T*-4', 'X'),\n",
       " (';', '.'),\n",
       " ('and', 'CONJ'),\n",
       " ('how', 'ADV'),\n",
       " ('can', 'VERB'),\n",
       " ('American', 'ADJ'),\n",
       " ('taxpayers', 'NOUN'),\n",
       " ('get', 'VERB'),\n",
       " ('the', 'DET'),\n",
       " ('answers', 'NOUN'),\n",
       " ('to', 'PRT'),\n",
       " ('these', 'DET'),\n",
       " ('questions', 'NOUN'),\n",
       " ('*T*-5', 'X'),\n",
       " ('?', '.'),\n",
       " (\"''\", '.'),\n",
       " ('a', 'DET'),\n",
       " ('man', 'NOUN'),\n",
       " ('wrote', 'VERB'),\n",
       " ('me', 'PRON'),\n",
       " ('*T*-1', 'X'),\n",
       " ('a', 'DET'),\n",
       " ('couple', 'NOUN'),\n",
       " ('of', 'ADP'),\n",
       " ('years', 'NOUN'),\n",
       " ('ago', 'ADP'),\n",
       " ('.', '.'),\n",
       " ('The', 'DET'),\n",
       " ('deal', 'NOUN'),\n",
       " ('also', 'ADV'),\n",
       " ('gave', 'VERB'),\n",
       " ('Mitsui', 'NOUN'),\n",
       " ('access', 'NOUN'),\n",
       " ('to', 'PRT'),\n",
       " ('a', 'DET'),\n",
       " ('high-tech', 'ADJ'),\n",
       " ('medical', 'ADJ'),\n",
       " ('product', 'NOUN'),\n",
       " ('.', '.'),\n",
       " ('Mr.', 'NOUN'),\n",
       " ('van', 'NOUN'),\n",
       " ('Dover', 'NOUN'),\n",
       " ('said', 'VERB'),\n",
       " ('0', 'X'),\n",
       " ('the', 'DET'),\n",
       " ('crystal', 'NOUN'),\n",
       " ('changes', 'VERB'),\n",
       " ('0', 'X'),\n",
       " ('his', 'PRON'),\n",
       " ('team', 'NOUN'),\n",
       " ('introduced', 'VERB'),\n",
       " ('*T*-1', 'X'),\n",
       " ('apparently', 'ADV'),\n",
       " ('pins', 'VERB'),\n",
       " ('the', 'DET'),\n",
       " ('magnetic', 'ADJ'),\n",
       " ('fields', 'NOUN'),\n",
       " ('in', 'ADP'),\n",
       " ('place', 'NOUN'),\n",
       " (',', '.'),\n",
       " ('*', 'X'),\n",
       " ('preventing', 'VERB'),\n",
       " ('them', 'PRON'),\n",
       " ('from', 'ADP'),\n",
       " ('*-3', 'X'),\n",
       " ('lowering', 'VERB'),\n",
       " ('current-carrying', 'ADJ'),\n",
       " ('capacity', 'NOUN'),\n",
       " ('.', '.'),\n",
       " ('Dick', 'NOUN'),\n",
       " ('Lobo', 'NOUN'),\n",
       " (',', '.'),\n",
       " ('the', 'DET'),\n",
       " ('general', 'ADJ'),\n",
       " ('manager', 'NOUN'),\n",
       " ('of', 'ADP'),\n",
       " ('WTVJ', 'NOUN'),\n",
       " (',', '.'),\n",
       " ('the', 'DET'),\n",
       " ('NBC-owned', 'ADJ'),\n",
       " ('station', 'NOUN'),\n",
       " ('in', 'ADP'),\n",
       " ('Miami', 'NOUN'),\n",
       " (',', '.'),\n",
       " ('for', 'ADP'),\n",
       " ('example', 'NOUN'),\n",
       " (',', '.'),\n",
       " ('says', 'VERB'),\n",
       " ('0', 'X'),\n",
       " ('the', 'DET'),\n",
       " ('show', 'NOUN'),\n",
       " ('has', 'VERB'),\n",
       " ('``', '.'),\n",
       " ('been', 'VERB'),\n",
       " ('a', 'DET'),\n",
       " ('major', 'ADJ'),\n",
       " ('disappointment', 'NOUN'),\n",
       " ('to', 'PRT'),\n",
       " ('us', 'PRON'),\n",
       " ('.', '.'),\n",
       " (\"''\", '.'),\n",
       " ('The', 'DET'),\n",
       " ('company', 'NOUN'),\n",
       " ('said', 'VERB'),\n",
       " ('0', 'X'),\n",
       " ('it', 'PRON'),\n",
       " ('made', 'VERB'),\n",
       " ('the', 'DET'),\n",
       " ('purchase', 'NOUN'),\n",
       " ('in', 'ADP'),\n",
       " ('order', 'NOUN'),\n",
       " ('*-1', 'X'),\n",
       " ('to', 'PRT'),\n",
       " ('locally', 'ADV'),\n",
       " ('produce', 'VERB'),\n",
       " ('hydraulically', 'ADV'),\n",
       " ('operated', 'VERB'),\n",
       " ('shovels', 'NOUN'),\n",
       " ('.', '.'),\n",
       " ('The', 'DET'),\n",
       " ('Texas', 'NOUN'),\n",
       " ('Oil', 'NOUN'),\n",
       " ('&', 'CONJ'),\n",
       " ('Gas', 'NOUN'),\n",
       " ('division', 'NOUN'),\n",
       " ('continues', 'VERB'),\n",
       " ('*-1', 'X'),\n",
       " ('to', 'PRT'),\n",
       " ('operate', 'VERB'),\n",
       " ('in', 'ADP'),\n",
       " ('the', 'DET'),\n",
       " ('red', 'NOUN'),\n",
       " (',', '.'),\n",
       " ('although', 'ADP'),\n",
       " ('losses', 'NOUN'),\n",
       " ('narrowed', 'VERB'),\n",
       " ('to', 'PRT'),\n",
       " ('$', '.'),\n",
       " ('9', 'NUM'),\n",
       " ('million', 'NUM'),\n",
       " ('*U*', 'X'),\n",
       " ('from', 'ADP'),\n",
       " ('$', '.'),\n",
       " ('15', 'NUM'),\n",
       " ('million', 'NUM'),\n",
       " ('*U*', 'X'),\n",
       " ('.', '.'),\n",
       " ('The', 'DET'),\n",
       " ('most', 'ADV'),\n",
       " ('common', 'ADJ'),\n",
       " ('program-trading', 'ADJ'),\n",
       " ('vehicles', 'NOUN'),\n",
       " ('are', 'VERB'),\n",
       " ('futures', 'NOUN'),\n",
       " ('contracts', 'NOUN'),\n",
       " ('on', 'ADP'),\n",
       " ('Standard', 'NOUN'),\n",
       " ('&', 'CONJ'),\n",
       " ('poor', 'NOUN'),\n",
       " (\"'s\", 'PRT'),\n",
       " ('500-stock', 'ADJ'),\n",
       " ('index', 'NOUN'),\n",
       " ('-LRB-', '.'),\n",
       " ('traded', 'VERB'),\n",
       " ('*', 'X'),\n",
       " ('on', 'ADP'),\n",
       " ('the', 'DET'),\n",
       " ('Chicago', 'NOUN'),\n",
       " ('Mercantile', 'NOUN'),\n",
       " ('Exchange', 'NOUN'),\n",
       " ('-RRB-', '.'),\n",
       " (';', '.'),\n",
       " ('the', 'DET'),\n",
       " ('Major', 'NOUN'),\n",
       " ('Market', 'NOUN'),\n",
       " ('Index', 'NOUN'),\n",
       " (',', '.'),\n",
       " ('a', 'DET'),\n",
       " ('20-stock', 'ADJ'),\n",
       " ('index', 'NOUN'),\n",
       " ('that', 'DET'),\n",
       " ('*T*-1', 'X'),\n",
       " ('mimics', 'VERB'),\n",
       " ('the', 'DET'),\n",
       " ('Dow', 'NOUN'),\n",
       " ('Jones', 'NOUN'),\n",
       " ('Industrial', 'NOUN'),\n",
       " ('Average', 'NOUN'),\n",
       " ('-LRB-', '.'),\n",
       " ('traded', 'VERB'),\n",
       " ('*', 'X'),\n",
       " ('on', 'ADP'),\n",
       " ('the', 'DET'),\n",
       " ('chicago', 'NOUN'),\n",
       " ('Board', 'NOUN'),\n",
       " ('of', 'ADP'),\n",
       " ('Trade', 'NOUN'),\n",
       " ('-RRB-', '.'),\n",
       " (';', '.'),\n",
       " ('and', 'CONJ'),\n",
       " ('the', 'DET'),\n",
       " ('S&P', 'NOUN'),\n",
       " ('100', 'NUM'),\n",
       " ('options', 'NOUN'),\n",
       " ('-LRB-', '.'),\n",
       " ('traded', 'VERB'),\n",
       " ('*', 'X'),\n",
       " ('on', 'ADP'),\n",
       " ('the', 'DET'),\n",
       " ('Chicago', 'NOUN'),\n",
       " ('Board', 'NOUN'),\n",
       " ('Options', 'NOUN'),\n",
       " ('Exchange', 'NOUN'),\n",
       " (',', '.'),\n",
       " ('and', 'CONJ'),\n",
       " ('based', 'VERB'),\n",
       " ('*', 'X'),\n",
       " ('on', 'ADP'),\n",
       " ('100', 'NUM'),\n",
       " ('stocks', 'NOUN'),\n",
       " ('selected', 'VERB'),\n",
       " ('*', 'X'),\n",
       " ('from', 'ADP'),\n",
       " ('the', 'DET'),\n",
       " ('S&P', 'NOUN'),\n",
       " ('500', 'NUM'),\n",
       " ('-RRB-', '.'),\n",
       " ('.', '.'),\n",
       " ('USX', 'NOUN'),\n",
       " ('announced', 'VERB'),\n",
       " ('in', 'ADP'),\n",
       " ('October', 'NOUN'),\n",
       " ('that', 'ADP'),\n",
       " ('it', 'PRON'),\n",
       " ('was', 'VERB'),\n",
       " ('soliciting', 'VERB'),\n",
       " ('bids', 'NOUN'),\n",
       " ('*', 'X'),\n",
       " ('to', 'PRT'),\n",
       " ('sell', 'VERB'),\n",
       " ('TXO', 'NOUN'),\n",
       " (\"'s\", 'PRT'),\n",
       " ('oil', 'NOUN'),\n",
       " ('and', 'CONJ'),\n",
       " ('gas', 'NOUN'),\n",
       " ('reserves', 'NOUN'),\n",
       " ('.', '.'),\n",
       " ('Centerbank', 'NOUN'),\n",
       " ('added', 'VERB'),\n",
       " ('5\\\\/8', 'NUM'),\n",
       " ('to', 'PRT'),\n",
       " ('8', 'NUM'),\n",
       " ('3\\\\/4', 'NUM'),\n",
       " (';', '.'),\n",
       " ('shares', 'NOUN'),\n",
       " ('of', 'ADP'),\n",
       " ('NESB', 'NOUN'),\n",
       " (',', '.'),\n",
       " ('a', 'DET'),\n",
       " ('New', 'NOUN'),\n",
       " ('London-based', 'ADJ'),\n",
       " ('bank', 'NOUN'),\n",
       " ('holding', 'VERB'),\n",
       " ('company', 'NOUN'),\n",
       " (',', '.'),\n",
       " ('rose', 'VERB'),\n",
       " ('5\\\\/8', 'NUM'),\n",
       " ('to', 'PRT'),\n",
       " ('5', 'NUM'),\n",
       " ('7\\\\/8', 'NUM'),\n",
       " ('.', '.'),\n",
       " ('Dan', 'NOUN'),\n",
       " ('Droz', 'NOUN'),\n",
       " (',', '.'),\n",
       " ('leader', 'NOUN'),\n",
       " ('of', 'ADP'),\n",
       " ('the', 'DET'),\n",
       " ('Carnegie-Mellon', 'NOUN'),\n",
       " ('group', 'NOUN'),\n",
       " (',', '.'),\n",
       " ('sees', 'VERB'),\n",
       " ('benefits', 'NOUN'),\n",
       " ('all', 'DET'),\n",
       " ('around', 'ADP'),\n",
       " ('.', '.'),\n",
       " ('In', 'ADP'),\n",
       " ('New', 'NOUN'),\n",
       " ('York', 'NOUN'),\n",
       " ('Stock', 'NOUN'),\n",
       " ('Exchange', 'NOUN'),\n",
       " ('composite', 'ADJ'),\n",
       " ('trading', 'NOUN'),\n",
       " ('yesterday', 'NOUN'),\n",
       " (',', '.'),\n",
       " ('Intelogic', 'NOUN'),\n",
       " ('shares', 'NOUN'),\n",
       " ('rose', 'VERB'),\n",
       " ('37.5', 'NUM'),\n",
       " ('cents', 'NOUN'),\n",
       " ('*-1', 'X'),\n",
       " ('to', 'PRT'),\n",
       " ('close', 'VERB'),\n",
       " ('at', 'ADP'),\n",
       " ('$', '.'),\n",
       " ('2.75', 'NUM'),\n",
       " ('*U*', 'X'),\n",
       " ('.', '.'),\n",
       " ('The', 'DET'),\n",
       " ('book', 'NOUN'),\n",
       " ('revolves', 'VERB'),\n",
       " ('around', 'ADP'),\n",
       " ('John', 'NOUN'),\n",
       " ('Mariotta', 'NOUN'),\n",
       " (',', '.'),\n",
       " ('the', 'DET'),\n",
       " ('founder', 'NOUN'),\n",
       " ('of', 'ADP'),\n",
       " ('the', 'DET'),\n",
       " ('company', 'NOUN'),\n",
       " (',', '.'),\n",
       " ('and', 'CONJ'),\n",
       " ('Fred', 'NOUN'),\n",
       " ('Neuberger', 'NOUN'),\n",
       " (',', '.'),\n",
       " ('who', 'PRON'),\n",
       " ('*T*-1', 'X'),\n",
       " ('became', 'VERB'),\n",
       " ('his', 'PRON'),\n",
       " ('partner', 'NOUN'),\n",
       " ('soon', 'ADV'),\n",
       " ('after', 'ADP'),\n",
       " ('Wedtech', 'NOUN'),\n",
       " (\"'s\", 'PRT'),\n",
       " ('creation', 'NOUN'),\n",
       " ('.', '.'),\n",
       " ('Prices', 'NOUN'),\n",
       " ('closed', 'VERB'),\n",
       " ('mostly', 'ADV'),\n",
       " ('higher', 'ADJ'),\n",
       " ('in', 'ADP'),\n",
       " ('relatively', 'ADV'),\n",
       " ('light', 'ADJ'),\n",
       " ('trading', 'NOUN'),\n",
       " ('as', 'ADP'),\n",
       " ('farmers', 'NOUN'),\n",
       " ('continued', 'VERB'),\n",
       " ('*-1', 'X'),\n",
       " ('to', 'PRT'),\n",
       " ('withhold', 'VERB'),\n",
       " ('their', 'PRON'),\n",
       " ('crops', 'NOUN'),\n",
       " ('from', 'ADP'),\n",
       " ('the', 'DET'),\n",
       " ('marketplace', 'NOUN'),\n",
       " ('in', 'ADP'),\n",
       " ('the', 'DET'),\n",
       " ('hope', 'NOUN'),\n",
       " ('of', 'ADP'),\n",
       " ('higher', 'ADJ'),\n",
       " ('prices', 'NOUN'),\n",
       " ('0', 'X'),\n",
       " ('*T*-2', 'X'),\n",
       " ('to', 'PRT'),\n",
       " ('come', 'VERB'),\n",
       " ('.', '.'),\n",
       " ('``', '.'),\n",
       " ('Varying', 'ADJ'),\n",
       " ('age', 'NOUN'),\n",
       " (',', '.'),\n",
       " ('geography', 'NOUN'),\n",
       " ('and', 'CONJ'),\n",
       " ('life-style', 'NOUN'),\n",
       " ('differences', 'NOUN'),\n",
       " ('create', 'VERB'),\n",
       " ('numerous', 'ADJ'),\n",
       " ('sub-markets', 'NOUN'),\n",
       " (',', '.'),\n",
       " (\"''\", '.'),\n",
       " ('Ms.', 'NOUN'),\n",
       " ('MacDonald', 'NOUN'),\n",
       " ('says', 'VERB'),\n",
       " ('*T*-1', 'X'),\n",
       " ('.', '.'),\n",
       " ('This', 'DET'),\n",
       " ('time', 'NOUN'),\n",
       " (',', '.'),\n",
       " ('it', 'PRON'),\n",
       " ('was', 'VERB'),\n",
       " ('for', 'ADP'),\n",
       " ('dinner', 'NOUN'),\n",
       " ('and', 'CONJ'),\n",
       " ('dancing', 'NOUN'),\n",
       " ('--', '.'),\n",
       " ('a', 'DET'),\n",
       " ('block', 'NOUN'),\n",
       " ('away', 'ADV'),\n",
       " ('.', '.'),\n",
       " ('Campbell', 'NOUN'),\n",
       " (\"'s\", 'PRT'),\n",
       " ('stock', 'NOUN'),\n",
       " ('rose', 'VERB'),\n",
       " ('$', '.'),\n",
       " ('3.375', 'NUM'),\n",
       " ('*U*', 'X'),\n",
       " (',', '.'),\n",
       " ('to', 'PRT'),\n",
       " ('$', '.'),\n",
       " ('47.125', 'NUM'),\n",
       " ('*U*', 'X'),\n",
       " (',', '.'),\n",
       " ('in', 'ADP'),\n",
       " ('reaction', 'NOUN'),\n",
       " ('.', '.'),\n",
       " ('Asia', 'NOUN'),\n",
       " (\"'s\", 'PRT'),\n",
       " ('other', 'ADJ'),\n",
       " ('cash-rich', 'ADJ'),\n",
       " ('countries', 'NOUN'),\n",
       " ('are', 'VERB'),\n",
       " ('following', 'VERB'),\n",
       " ('Japan', 'NOUN'),\n",
       " (\"'s\", 'PRT'),\n",
       " ('lead', 'NOUN'),\n",
       " ('and', 'CONJ'),\n",
       " ('pumping', 'VERB'),\n",
       " ('capital', 'NOUN'),\n",
       " ('into', 'ADP'),\n",
       " ('the', 'DET'),\n",
       " ('region', 'NOUN'),\n",
       " ('.', '.'),\n",
       " ('``', '.'),\n",
       " ('Actually', 'ADV'),\n",
       " (',', '.'),\n",
       " ('the', 'DET'),\n",
       " ('long', 'ADJ'),\n",
       " ('deterioration', 'NOUN'),\n",
       " ('in', 'ADP'),\n",
       " ('daily', 'ADJ'),\n",
       " ('newspapers', 'NOUN'),\n",
       " ('shows', 'VERB'),\n",
       " ('signs', 'NOUN'),\n",
       " ('of', 'ADP'),\n",
       " ('*', 'X'),\n",
       " ('coming', 'VERB'),\n",
       " ('to', 'PRT'),\n",
       " ('an', 'DET'),\n",
       " ('end', 'NOUN'),\n",
       " (',', '.'),\n",
       " ('and', 'CONJ'),\n",
       " ('the', 'DET'),\n",
       " ('industry', 'NOUN'),\n",
       " ('looks', 'VERB'),\n",
       " ('pretty', 'ADV'),\n",
       " ('healthy', 'ADJ'),\n",
       " ('.', '.'),\n",
       " (\"''\", '.'),\n",
       " ('Without', 'ADP'),\n",
       " ('*-1', 'X'),\n",
       " ('admitting', 'VERB'),\n",
       " ('or', 'CONJ'),\n",
       " ('denying', 'VERB'),\n",
       " ('wrongdoing', 'NOUN'),\n",
       " (',', '.'),\n",
       " ('they', 'PRON'),\n",
       " ('consented', 'VERB'),\n",
       " ('to', 'PRT'),\n",
       " ('findings', 'NOUN'),\n",
       " ('that', 'ADP'),\n",
       " ('they', 'PRON'),\n",
       " ('had', 'VERB'),\n",
       " ('inaccurately', 'ADV'),\n",
       " ('represented', 'VERB'),\n",
       " ('the', 'DET'),\n",
       " ('firm', 'NOUN'),\n",
       " (\"'s\", 'PRT'),\n",
       " ('net', 'NOUN'),\n",
       " ('capital', 'NOUN'),\n",
       " (',', '.'),\n",
       " ('maintained', 'VERB'),\n",
       " ('inaccurate', 'ADJ'),\n",
       " ('books', 'NOUN'),\n",
       " ('and', 'CONJ'),\n",
       " ('records', 'NOUN'),\n",
       " (',', '.'),\n",
       " ('and', 'CONJ'),\n",
       " ('made', 'VERB'),\n",
       " ('other', 'ADJ'),\n",
       " ('violations', 'NOUN'),\n",
       " ('.', '.'),\n",
       " ('Mrs.', 'NOUN'),\n",
       " ('Ward', 'NOUN'),\n",
       " ('says', 'VERB'),\n",
       " ('that', 'ADP'),\n",
       " ('when', 'ADV'),\n",
       " ('the', 'DET'),\n",
       " ('cheating', 'NOUN'),\n",
       " ('was', 'VERB'),\n",
       " ('discovered', 'VERB'),\n",
       " ('*-4', 'X'),\n",
       " ('*T*-1', 'X'),\n",
       " (',', '.'),\n",
       " ('she', 'PRON'),\n",
       " ('wanted', 'VERB'),\n",
       " ('*-2', 'X'),\n",
       " ('to', 'PRT'),\n",
       " ('avoid', 'VERB'),\n",
       " ('the', 'DET'),\n",
       " ('morale-damaging', 'ADJ'),\n",
       " ('public', 'ADJ'),\n",
       " ('disclosure', 'NOUN'),\n",
       " ('that', 'ADP'),\n",
       " ('a', 'DET'),\n",
       " ('trial', 'NOUN'),\n",
       " ('would', 'VERB'),\n",
       " ('bring', 'VERB'),\n",
       " ('*T*-3', 'X'),\n",
       " ('.', '.'),\n",
       " ('Among', 'ADP'),\n",
       " ('other', 'ADJ'),\n",
       " ('things', 'NOUN'),\n",
       " (',', '.'),\n",
       " ('the', 'DET'),\n",
       " ('survey', 'NOUN'),\n",
       " ('found', 'VERB'),\n",
       " ('that', 'ADP'),\n",
       " ('manufacturing', 'NOUN'),\n",
       " ('activity', 'NOUN'),\n",
       " ('varied', 'VERB'),\n",
       " ('considerably', 'ADV'),\n",
       " ('across', 'ADP'),\n",
       " ('districts', 'NOUN'),\n",
       " ('and', 'CONJ'),\n",
       " ('among', 'ADP'),\n",
       " ('industries', 'NOUN'),\n",
       " ('.', '.'),\n",
       " ('This', 'DET'),\n",
       " ('is', 'VERB'),\n",
       " (\"n't\", 'ADV'),\n",
       " ('Buick', 'NOUN'),\n",
       " (\"'s\", 'PRT'),\n",
       " ('first', 'ADJ'),\n",
       " ('travel-related', 'ADJ'),\n",
       " ('promotion', 'NOUN'),\n",
       " ('.', '.'),\n",
       " ('The', 'DET'),\n",
       " ('dollar', 'NOUN'),\n",
       " ('posted', 'VERB'),\n",
       " ('gains', 'NOUN'),\n",
       " ('against', 'ADP'),\n",
       " ('all', 'DET'),\n",
       " ('major', 'ADJ'),\n",
       " ('currencies', 'NOUN'),\n",
       " ('yesterday', 'NOUN'),\n",
       " (',', '.'),\n",
       " ('*-1', 'X'),\n",
       " ('buoyed', 'VERB'),\n",
       " ('*-2', 'X'),\n",
       " ('by', 'ADP'),\n",
       " ('persistent', 'ADJ'),\n",
       " ('Japanese', 'ADJ'),\n",
       " ('demand', 'NOUN'),\n",
       " ('for', 'ADP'),\n",
       " ('U.S.', 'NOUN'),\n",
       " ('bond', 'NOUN'),\n",
       " ('issues', 'NOUN'),\n",
       " ('.', '.'),\n",
       " ('*-64', 'X'),\n",
       " ('Founded', 'VERB'),\n",
       " ('as', 'ADP'),\n",
       " ('the', 'DET'),\n",
       " ('Examiner', 'NOUN'),\n",
       " ('in', 'ADP'),\n",
       " ('1903', 'NUM'),\n",
       " ('by', 'ADP'),\n",
       " ('Mr.', 'NOUN'),\n",
       " ('Hearst', 'NOUN'),\n",
       " (',', '.'),\n",
       " ('the', 'DET'),\n",
       " ('Herald', 'NOUN'),\n",
       " ('was', 'VERB'),\n",
       " ('crippled', 'VERB'),\n",
       " ('*-64', 'X'),\n",
       " ('by', 'ADP'),\n",
       " ('a', 'DET'),\n",
       " ('bitter', 'ADJ'),\n",
       " (',', '.'),\n",
       " ('decade-long', 'ADJ'),\n",
       " ('strike', 'NOUN'),\n",
       " ('that', 'DET'),\n",
       " ('*T*-1', 'X'),\n",
       " ('began', 'VERB'),\n",
       " ('in', 'ADP'),\n",
       " ('1967', 'NUM'),\n",
       " ('and', 'CONJ'),\n",
       " ('cut', 'VERB'),\n",
       " ('circulation', 'NOUN'),\n",
       " ('in', 'ADP'),\n",
       " ('half', 'DET'),\n",
       " ('.', '.'),\n",
       " ('Lucille', 'NOUN'),\n",
       " ('Gorman', 'NOUN'),\n",
       " (',', '.'),\n",
       " ('an', 'DET'),\n",
       " ('84-year-old', 'ADJ'),\n",
       " ('Chicago', 'NOUN'),\n",
       " ('housewife', 'NOUN'),\n",
       " (',', '.'),\n",
       " ('has', 'VERB'),\n",
       " ('become', 'VERB'),\n",
       " ('amazingly', 'ADV'),\n",
       " ('immune', 'ADJ'),\n",
       " ('to', 'PRT'),\n",
       " ('stock-market', 'NOUN'),\n",
       " ('jolts', 'NOUN'),\n",
       " ('.', '.'),\n",
       " ('``', '.'),\n",
       " ('I', 'PRON'),\n",
       " ('sense', 'VERB'),\n",
       " ('that', 'ADP'),\n",
       " ('some', 'DET'),\n",
       " ('people', 'NOUN'),\n",
       " ('are', 'VERB'),\n",
       " ('reluctant', 'ADJ'),\n",
       " ('*-2', 'X'),\n",
       " ('to', 'PRT'),\n",
       " ('stick', 'VERB'),\n",
       " ('their', 'PRON'),\n",
       " ('necks', 'NOUN'),\n",
       " ('out', 'PRT'),\n",
       " ('in', 'ADP'),\n",
       " ('any', 'DET'),\n",
       " ('aggressive', 'ADJ'),\n",
       " ('way', 'NOUN'),\n",
       " ('until', 'ADP'),\n",
       " ('after', 'ADP'),\n",
       " ('the', 'DET'),\n",
       " ('figures', 'NOUN'),\n",
       " ('come', 'VERB'),\n",
       " ('out', 'ADP'),\n",
       " (',', '.'),\n",
       " (\"''\", '.'),\n",
       " ('said', 'VERB'),\n",
       " ('*T*-1', 'X'),\n",
       " ('Richard', 'NOUN'),\n",
       " ('Eakle', 'NOUN'),\n",
       " (',', '.'),\n",
       " ('president', 'NOUN'),\n",
       " ('of', 'ADP'),\n",
       " ('Eakle', 'NOUN'),\n",
       " ('Associates', 'NOUN'),\n",
       " (',', '.'),\n",
       " ('Fair', 'NOUN'),\n",
       " ('Haven', 'NOUN'),\n",
       " (',', '.'),\n",
       " ('As', 'ADP'),\n",
       " ('a', 'DET'),\n",
       " ('part', 'NOUN'),\n",
       " ('of', 'ADP'),\n",
       " ('overall', 'ADJ'),\n",
       " ('efforts', 'NOUN'),\n",
       " ('*', 'X'),\n",
       " ('to', 'PRT'),\n",
       " ('reduce', 'VERB'),\n",
       " ('spending', 'NOUN'),\n",
       " (',', '.'),\n",
       " ('Congress', 'NOUN'),\n",
       " ('cut', 'VERB'),\n",
       " ('by', 'ADP'),\n",
       " ('$', '.'),\n",
       " ('30', 'NUM'),\n",
       " ('million', 'NUM'),\n",
       " ('*U*', 'X'),\n",
       " ('the', 'DET'),\n",
       " ('Bush', 'NOUN'),\n",
       " ('administration', 'NOUN'),\n",
       " (\"'s\", 'PRT'),\n",
       " ('request', 'NOUN'),\n",
       " ('for', 'ADP'),\n",
       " ('antitrust', 'ADJ'),\n",
       " ('enforcement', 'NOUN'),\n",
       " ('for', 'ADP'),\n",
       " ('fiscal', 'ADJ'),\n",
       " ('1990', 'NUM'),\n",
       " (',', '.'),\n",
       " ('which', 'DET'),\n",
       " ('*T*-81', 'X'),\n",
       " ('began', 'VERB'),\n",
       " ('Oct.', 'NOUN'),\n",
       " ('1', 'NUM'),\n",
       " ('.', '.'),\n",
       " ('It', 'PRON'),\n",
       " ('rose', 'VERB'),\n",
       " ('7\\\\/8', 'NUM'),\n",
       " ('to', 'PRT'),\n",
       " ('18', 'NUM'),\n",
       " ('1\\\\/4', 'NUM'),\n",
       " ('.', '.'),\n",
       " ('Packaging', 'NOUN'),\n",
       " ('has', 'VERB'),\n",
       " ('some', 'DET'),\n",
       " ('drawbacks', 'NOUN'),\n",
       " ('.', '.'),\n",
       " ('He', 'PRON'),\n",
       " ...]"
      ]
     },
     "execution_count": 46,
     "metadata": {},
     "output_type": "execute_result"
    }
   ],
   "source": [
    "train_tagged_words"
   ]
  },
  {
   "cell_type": "code",
   "execution_count": 47,
   "metadata": {},
   "outputs": [
    {
     "name": "stdout",
     "output_type": "stream",
     "text": [
      "0.20750329431826992\n"
     ]
    },
    {
     "data": {
      "text/plain": [
       "[('created', 'VERB'),\n",
       " ('connected', 'VERB'),\n",
       " ('auctioned', 'VERB'),\n",
       " ('declined', 'VERB'),\n",
       " ('added', 'VERB'),\n",
       " ('designed', 'VERB'),\n",
       " ('pursued', 'VERB'),\n",
       " ('raised', 'VERB'),\n",
       " ('answered', 'VERB'),\n",
       " ('introduced', 'VERB'),\n",
       " ('operated', 'VERB'),\n",
       " ('narrowed', 'VERB'),\n",
       " ('traded', 'VERB'),\n",
       " ('traded', 'VERB'),\n",
       " ('traded', 'VERB'),\n",
       " ('based', 'VERB'),\n",
       " ('selected', 'VERB'),\n",
       " ('announced', 'VERB'),\n",
       " ('added', 'VERB'),\n",
       " ('closed', 'VERB')]"
      ]
     },
     "execution_count": 47,
     "metadata": {},
     "output_type": "execute_result"
    }
   ],
   "source": [
    "# Let's check the verbs classifed as 'verb ending with 'ed'\n",
    "verbs = [pair for pair in train_tagged_words if pair[1]== 'VERB']\n",
    "ed_verbs = [pair for pair in verbs if pair[0].endswith('ed')]\n",
    "print(len(ed_verbs) / len(verbs))\n",
    "ed_verbs[:20]"
   ]
  },
  {
   "cell_type": "markdown",
   "metadata": {},
   "source": [
    "#### More than `20%` of words are tagged as VERB, that should have been tagged as VBD"
   ]
  },
  {
   "cell_type": "code",
   "execution_count": 48,
   "metadata": {},
   "outputs": [
    {
     "name": "stdout",
     "output_type": "stream",
     "text": [
      "0.10882877296333618\n"
     ]
    },
    {
     "data": {
      "text/plain": [
       "[('According', 'VERB'),\n",
       " ('resulting', 'VERB'),\n",
       " ('living', 'VERB'),\n",
       " ('reaching', 'VERB'),\n",
       " ('being', 'VERB'),\n",
       " ('preventing', 'VERB'),\n",
       " ('lowering', 'VERB'),\n",
       " ('soliciting', 'VERB'),\n",
       " ('holding', 'VERB'),\n",
       " ('following', 'VERB'),\n",
       " ('pumping', 'VERB'),\n",
       " ('coming', 'VERB'),\n",
       " ('admitting', 'VERB'),\n",
       " ('denying', 'VERB'),\n",
       " ('bring', 'VERB'),\n",
       " ('trying', 'VERB'),\n",
       " ('bundling', 'VERB'),\n",
       " ('targeting', 'VERB'),\n",
       " ('losing', 'VERB'),\n",
       " ('saying', 'VERB')]"
      ]
     },
     "execution_count": 48,
     "metadata": {},
     "output_type": "execute_result"
    }
   ],
   "source": [
    "# Let's check the verbs classifed as 'verb ending with 'ing'\n",
    "verbs = [pair for pair in train_tagged_words if pair[1]== 'VERB']\n",
    "ed_verbs = [pair for pair in verbs if pair[0].endswith('ing')]\n",
    "print(len(ed_verbs) / len(verbs))\n",
    "ed_verbs[:20]"
   ]
  },
  {
   "cell_type": "markdown",
   "metadata": {},
   "source": [
    "#### More than `10%` of words are tagged as VERB, that should have been tagged as VBG"
   ]
  },
  {
   "cell_type": "code",
   "execution_count": 49,
   "metadata": {},
   "outputs": [
    {
     "name": "stdout",
     "output_type": "stream",
     "text": [
      "6077\n",
      "4250\n",
      "0.6993582359716966\n"
     ]
    }
   ],
   "source": [
    "# Let's see what fraction of adjectives JJ are followed by a noun NN\n",
    "\n",
    "# create a list of all tags (without the words)\n",
    "tags = [pair[1] for pair in train_tagged_words]\n",
    "\n",
    "# create a list of JJ tags\n",
    "ADj_tags = [t for t in tags if t == 'ADJ']\n",
    "\n",
    "# create a list of (JJ, NN) tags\n",
    "ADJ_NOUN_tags = [(t, tags[index+1]) for index, t in enumerate(tags) \n",
    "              if t=='ADJ' and tags[index+1]=='NOUN']\n",
    "\n",
    "print(len(ADj_tags))\n",
    "print(len(ADJ_NOUN_tags))\n",
    "print(len(ADJ_NOUN_tags) / len(ADj_tags))"
   ]
  },
  {
   "cell_type": "markdown",
   "metadata": {},
   "source": [
    "#### More than `70%` of ADJ are followed by NOUN"
   ]
  },
  {
   "cell_type": "code",
   "execution_count": 50,
   "metadata": {},
   "outputs": [
    {
     "name": "stdout",
     "output_type": "stream",
     "text": [
      "8276\n",
      "5281\n",
      "0.6381101981633639\n"
     ]
    }
   ],
   "source": [
    "# Let's  check what fraction of determiners DT are followed by a noun NN\n",
    "DET_tags = [t for t in tags if t == 'DET']\n",
    "DET_NOUN_tags = [(t, tags[index+1]) for index, t in enumerate(tags) \n",
    "              if t=='DET' and tags[index+1]=='NOUN']\n",
    "\n",
    "print(len(DET_tags))\n",
    "print(len(DET_NOUN_tags))\n",
    "print(len(DET_NOUN_tags) / len(DET_tags))"
   ]
  },
  {
   "cell_type": "markdown",
   "metadata": {},
   "source": [
    "#### More than `63%` of DET are followed by NOUN"
   ]
  },
  {
   "cell_type": "code",
   "execution_count": 51,
   "metadata": {},
   "outputs": [
    {
     "name": "stdout",
     "output_type": "stream",
     "text": [
      "3029\n",
      "1042\n",
      "0.34400792340706504\n"
     ]
    }
   ],
   "source": [
    "# Let's check what fraction of adverbs are followed by a verb?\n",
    "ADV_tags = [t for t in tags if t == 'ADV']\n",
    "ADV_VERB_tags = [(t, tags[index+1]) for index, t in enumerate(tags) \n",
    "              if t=='ADV' and tags[index+1]=='VERB']\n",
    "\n",
    "print(len(ADV_tags))\n",
    "print(len(ADV_VERB_tags))\n",
    "print(len(ADV_VERB_tags) / len(ADV_tags))"
   ]
  },
  {
   "cell_type": "markdown",
   "metadata": {},
   "source": [
    "#### Approximately `35%` of Adverbs are followed by Verbs"
   ]
  },
  {
   "cell_type": "markdown",
   "metadata": {},
   "source": [
    "### Lexicon Based POS Tagging"
   ]
  },
  {
   "cell_type": "code",
   "execution_count": 52,
   "metadata": {},
   "outputs": [
    {
     "data": {
      "text/plain": [
       "0.900040144520273"
      ]
     },
     "execution_count": 52,
     "metadata": {},
     "output_type": "execute_result"
    }
   ],
   "source": [
    "# Lexicon (or unigram tagger)\n",
    "unigram_tagger = nltk.UnigramTagger(train_set)\n",
    "unigram_tagger.evaluate(test_set)"
   ]
  },
  {
   "cell_type": "markdown",
   "metadata": {},
   "source": [
    "#### Even a simple unigram tagger seems to perform fairly well with `89.47%` accuracy"
   ]
  },
  {
   "cell_type": "code",
   "execution_count": 53,
   "metadata": {},
   "outputs": [
    {
     "data": {
      "text/plain": [
       "0.2081493376154155"
      ]
     },
     "execution_count": 53,
     "metadata": {},
     "output_type": "execute_result"
    }
   ],
   "source": [
    "# Bigram tagger)\n",
    "bigram_tagger = nltk.BigramTagger(train_set)\n",
    "bigram_tagger.evaluate(test_set)"
   ]
  },
  {
   "cell_type": "markdown",
   "metadata": {},
   "source": [
    "#### With Bigram tagger, the accuracy is very low with `18.41%`"
   ]
  },
  {
   "cell_type": "markdown",
   "metadata": {},
   "source": [
    "### Rule-Based (Regular Expression) Tagger Using The EDA Perfomed Earlier"
   ]
  },
  {
   "cell_type": "code",
   "execution_count": 54,
   "metadata": {},
   "outputs": [],
   "source": [
    "# specify patterns for tagging\n",
    "patterns = [\n",
    "    (r'.*ing$', 'VERB'),              # gerund\n",
    "    (r'.*ed$', 'VERB'),               # past tense verbs\n",
    "    (r'.*es$', 'VERB'),               # singular present verbs\n",
    "    (r'.*ould$', 'VERB'),              # modal verbs\n",
    "    (r'.*\\'s$', 'NOUN'),              # possessive nouns\n",
    "    (r'.*s$', 'NOUN'),                # plural nouns\n",
    "    (r'^-?[0-9]+(.[0-9]+)?$', 'NUM'), # cardinal numbers\n",
    "    (r'(The|the|A|a|An|an)$', 'DET'),   # articles or determinants\n",
    "    (r'.*able$', 'ADJ'),                # adjectives\n",
    "    (r'.*ness$', 'NOUN'),                # nouns formed from adjectives\n",
    "    (r'.*ly$', 'ADV'),                  # adverbs\n",
    "    (r'.*', 'NOUN')                    # nouns\n",
    "]"
   ]
  },
  {
   "cell_type": "code",
   "execution_count": 55,
   "metadata": {},
   "outputs": [],
   "source": [
    "regexp_tagger = nltk.RegexpTagger(patterns)"
   ]
  },
  {
   "cell_type": "code",
   "execution_count": 56,
   "metadata": {},
   "outputs": [
    {
     "data": {
      "text/plain": [
       "0.4120835006021678"
      ]
     },
     "execution_count": 56,
     "metadata": {},
     "output_type": "execute_result"
    }
   ],
   "source": [
    "regexp_tagger.evaluate(test_set)"
   ]
  },
  {
   "cell_type": "markdown",
   "metadata": {},
   "source": [
    "#### Rule Based tagger is giving a low accuracy  of `41.35%` accuracy"
   ]
  },
  {
   "cell_type": "markdown",
   "metadata": {},
   "source": [
    "### Combining Tagger"
   ]
  },
  {
   "cell_type": "code",
   "execution_count": 57,
   "metadata": {},
   "outputs": [
    {
     "data": {
      "text/plain": [
       "0.948815736651947"
      ]
     },
     "execution_count": 57,
     "metadata": {},
     "output_type": "execute_result"
    }
   ],
   "source": [
    "# rule based tagger\n",
    "rule_based_tagger = nltk.RegexpTagger(patterns)\n",
    "\n",
    "# lexicon backed up by the rule-based tagger\n",
    "lexicon_tagger = nltk.UnigramTagger(train_set, backoff=rule_based_tagger)\n",
    "\n",
    "# Bigram backed up by the lexicon tagger\n",
    "bigram_tagger = nltk.UnigramTagger(train_set, backoff=lexicon_tagger)\n",
    "\n",
    "bigram_tagger.evaluate(test_set)"
   ]
  },
  {
   "cell_type": "markdown",
   "metadata": {},
   "source": [
    "#### The accuracy is around 94% for a bigram tagger, backed up by, unigram lexicon tagger, which is backed up by a rule based tagger."
   ]
  },
  {
   "cell_type": "markdown",
   "metadata": {},
   "source": [
    "### Modified Viterbi Algorithm # 1\n",
    "\n",
    "We know, if a word is unknown word, then the state probabilities for that word becomes zero and hence the Viterbi algorithm assigned the POS tag to that word, by default with the first tag in the training set.\n",
    "\n",
    "Therefore, lets modify the Viterbi Algorithm such that when the state probabilities become zero it updates the tag based on the transition probability."
   ]
  },
  {
   "cell_type": "code",
   "execution_count": 58,
   "metadata": {},
   "outputs": [],
   "source": [
    "# Viterbi Heuristic\n",
    "def Viterbi_modified1(words, train_bag = train_tagged_words):\n",
    "    state = []\n",
    "    T = list(set([pair[1] for pair in train_bag]))\n",
    "    \n",
    "    for key, word in enumerate(words):\n",
    "        #initialise list of probability column for a given observation\n",
    "        p = []\n",
    "        ltrans = []\n",
    "        for tag in T:\n",
    "            if key == 0:\n",
    "                transition_p = tags_df.loc['.', tag]\n",
    "            else:\n",
    "                transition_p = tags_df.loc[state[-1], tag]\n",
    "            ltrans.append(transition_p)\n",
    "            \n",
    "            # compute emission and state probabilities\n",
    "            emission_p = word_given_tag(words[key], tag)[0]/word_given_tag(words[key], tag)[1]\n",
    "            \n",
    "            state_probability = emission_p * transition_p\n",
    "            p.append(state_probability)\n",
    "            \n",
    "        pmax = max(p)\n",
    "        \n",
    "        #Check if the state probability is zero\n",
    "        if pmax == 0:\n",
    "            #If state probability is zero, update the tag with the maximum transition probability\n",
    "            state_max = T[ltrans.index(max(ltrans))]\n",
    "        else:\n",
    "            # getting state for which probability is maximum\n",
    "            state_max = T[p.index(pmax)]\n",
    "        state.append(state_max)\n",
    "        \n",
    "    return list(zip(words, state))"
   ]
  },
  {
   "cell_type": "markdown",
   "metadata": {},
   "source": [
    "### Compare the tagging accuracies of the modifications with the vanilla Viterbi algorithm"
   ]
  },
  {
   "cell_type": "code",
   "execution_count": 59,
   "metadata": {},
   "outputs": [
    {
     "name": "stdout",
     "output_type": "stream",
     "text": [
      "19.902929067611694\n"
     ]
    }
   ],
   "source": [
    "# Tag the Sample Test Sentences with the updated Viterbi algorithm\n",
    "start = time.time()\n",
    "updated_tagged_seq = Viterbi_modified1(test_tagged_words)\n",
    "end = time.time()\n",
    "difference = end-start\n",
    "#Print total time taken to train the algorithm\n",
    "print(difference)"
   ]
  },
  {
   "cell_type": "code",
   "execution_count": 60,
   "metadata": {},
   "outputs": [
    {
     "data": {
      "text/plain": [
       "0.9391304347826087"
      ]
     },
     "execution_count": 60,
     "metadata": {},
     "output_type": "execute_result"
    }
   ],
   "source": [
    "# Calculate the accuracy for the updated Viterbi algorithm\n",
    "check = [i for i, j in zip(updated_tagged_seq, test_run_base) if i == j] \n",
    "accuracy = len(check)/len(updated_tagged_seq)\n",
    "accuracy"
   ]
  },
  {
   "cell_type": "markdown",
   "metadata": {},
   "source": [
    "#### The accuracy is increased to `93.91%` using the updated Viterbi Algorithm"
   ]
  },
  {
   "cell_type": "markdown",
   "metadata": {},
   "source": [
    "### Modified Viterbi Algorithm # 2(Laplace Smoothing)\n",
    "\n",
    "Lets modify the Viterbi Algorithm by adding a very low epsilon value `0.001` to the emission probability to make sure the emission probability never goes to 0."
   ]
  },
  {
   "cell_type": "code",
   "execution_count": 61,
   "metadata": {},
   "outputs": [],
   "source": [
    "# Viterbi Heuristic\n",
    "def Viterbi_modified2(words, train_bag = train_tagged_words):\n",
    "    state = []\n",
    "    T = list(set([pair[1] for pair in train_bag]))\n",
    "    ep_value = 0.001\n",
    "    for key, word in enumerate(words):\n",
    "        #initialise list of probability column for a given observation\n",
    "        p = []\n",
    "        ltrans = []\n",
    "        for tag in T:\n",
    "            if key == 0:\n",
    "                transition_p = tags_df.loc['.', tag]\n",
    "            else:\n",
    "                transition_p = tags_df.loc[state[-1], tag]\n",
    "            ltrans.append(transition_p)\n",
    "            \n",
    "            # compute emission and state probabilities\n",
    "            emission_p = word_given_tag(words[key], tag)[0]/word_given_tag(words[key], tag)[1]\n",
    "            \n",
    "            state_probability = (emission_p + ep_value) * transition_p\n",
    "            p.append(state_probability)\n",
    "            \n",
    "        pmax = max(p)\n",
    "        \n",
    "        # getting state for which probability is maximum\n",
    "        state_max = T[p.index(pmax)]\n",
    "        state.append(state_max)\n",
    "        \n",
    "    return list(zip(words, state))"
   ]
  },
  {
   "cell_type": "code",
   "execution_count": 62,
   "metadata": {},
   "outputs": [
    {
     "name": "stdout",
     "output_type": "stream",
     "text": [
      "20.214087963104248\n"
     ]
    }
   ],
   "source": [
    "# Tag the Sample Test Sentences with the second updated Viterbi algorithm\n",
    "start = time.time()\n",
    "updated_tagged_seq = Viterbi_modified2(test_tagged_words)\n",
    "end = time.time()\n",
    "difference = end-start\n",
    "#Print total time taken to train the algorithm\n",
    "print(difference)"
   ]
  },
  {
   "cell_type": "code",
   "execution_count": 63,
   "metadata": {},
   "outputs": [
    {
     "data": {
      "text/plain": [
       "0.8347826086956521"
      ]
     },
     "execution_count": 63,
     "metadata": {},
     "output_type": "execute_result"
    }
   ],
   "source": [
    "# Calculate the accuracy for the updated Viterbi algorithm\n",
    "check = [i for i, j in zip(updated_tagged_seq, test_run_base) if i == j] \n",
    "accuracy = len(check)/len(updated_tagged_seq)\n",
    "accuracy"
   ]
  },
  {
   "cell_type": "markdown",
   "metadata": {},
   "source": [
    "#### The accuracy of the updated Viterbi algorithm slightly increased to `83.47%` as compared to Vanilla Viterbi Model "
   ]
  },
  {
   "cell_type": "markdown",
   "metadata": {},
   "source": [
    "### Modified Viterbi Algorithm # 3(Combining Taggger)\n",
    "\n",
    "Modify the Viterbi Algorithm such that when the state probabilities become zero it updates the tag based on the Combining (Bigram => Unigram => Rule Based)Tagger."
   ]
  },
  {
   "cell_type": "code",
   "execution_count": 64,
   "metadata": {},
   "outputs": [],
   "source": [
    "# Viterbi Heuristic\n",
    "def Viterbi_modified3(words, train_bag = train_tagged_words):\n",
    "    state = []\n",
    "    T = list(set([pair[1] for pair in train_bag]))\n",
    "    \n",
    "    for key, word in enumerate(words):\n",
    "        #initialise list of probability column for a given observation\n",
    "        p = []\n",
    "        ltrans = []\n",
    "        for tag in T:\n",
    "            if key == 0:\n",
    "                transition_p = tags_df.loc['.', tag]\n",
    "            else:\n",
    "                transition_p = tags_df.loc[state[-1], tag]\n",
    "            ltrans.append(transition_p)\n",
    "            \n",
    "            # compute emission and state probabilities\n",
    "            emission_p = word_given_tag(words[key], tag)[0]/word_given_tag(words[key], tag)[1]\n",
    "            \n",
    "            state_probability = emission_p * transition_p\n",
    "            p.append(state_probability)\n",
    "            \n",
    "        pmax = max(p)\n",
    "        \n",
    "        #Check if the state probability is zero\n",
    "        if pmax == 0:\n",
    "            #If state probability is zero, update the tag with the maximum transition probability\n",
    "            state_max = bigram_tagger.tag([word])[0][1]\n",
    "        else:\n",
    "            # getting state for which probability is maximum\n",
    "            state_max = T[p.index(pmax)]\n",
    "        state.append(state_max)\n",
    "        \n",
    "    return list(zip(words, state))"
   ]
  },
  {
   "cell_type": "code",
   "execution_count": 65,
   "metadata": {},
   "outputs": [
    {
     "name": "stdout",
     "output_type": "stream",
     "text": [
      "21.111695528030396\n"
     ]
    }
   ],
   "source": [
    "# Tag the Sample Test Sentences with the second updated Viterbi algorithm\n",
    "start = time.time()\n",
    "updated_tagged_seq = Viterbi_modified3(test_tagged_words)\n",
    "end = time.time()\n",
    "difference = end-start\n",
    "#Print total time taken to train the algorithm\n",
    "print(difference)"
   ]
  },
  {
   "cell_type": "code",
   "execution_count": 66,
   "metadata": {},
   "outputs": [
    {
     "data": {
      "text/plain": [
       "0.9304347826086956"
      ]
     },
     "execution_count": 66,
     "metadata": {},
     "output_type": "execute_result"
    }
   ],
   "source": [
    "# Calculate the accuracy for the updated Viterbi algorithm\n",
    "check = [i for i, j in zip(updated_tagged_seq, test_run_base) if i == j] \n",
    "accuracy = len(check)/len(updated_tagged_seq)\n",
    "accuracy"
   ]
  },
  {
   "cell_type": "markdown",
   "metadata": {},
   "source": [
    "#### With the Combining Tagger, we have achieved the maximum accuracy of `93.04%` out of the 3 models"
   ]
  },
  {
   "cell_type": "markdown",
   "metadata": {},
   "source": [
    "### List down cases which were incorrectly tagged by original POS tagger and got corrected by your modifications"
   ]
  },
  {
   "cell_type": "code",
   "execution_count": 67,
   "metadata": {},
   "outputs": [
    {
     "name": "stdout",
     "output_type": "stream",
     "text": [
      "[('Android', 'PRT'), ('is', 'VERB'), ('a', 'DET'), ('mobile', 'ADJ'), ('operating', 'NOUN'), ('system', 'NOUN'), ('developed', 'VERB'), ('by', 'ADP'), ('Google', 'PRT'), ('.', '.')]\n",
      "[('Android', 'PRT'), ('has', 'VERB'), ('been', 'VERB'), ('the', 'DET'), ('best-selling', 'ADJ'), ('OS', 'PRT'), ('worldwide', 'PRT'), ('on', 'ADP'), ('smartphones', 'PRT'), ('since', 'ADP'), ('2011', 'PRT'), ('and', 'CONJ'), ('on', 'ADP'), ('tablets', 'NOUN'), ('since', 'ADP'), ('2013', 'PRT'), ('.', '.')]\n",
      "[('Google', 'PRT'), ('and', 'CONJ'), ('Twitter', 'PRT'), ('made', 'VERB'), ('a', 'DET'), ('deal', 'NOUN'), ('in', 'ADP'), ('2015', 'PRT'), ('that', 'DET'), ('gave', 'VERB'), ('Google', 'PRT'), ('access', 'NOUN'), ('to', 'PRT'), ('Twitter', 'PRT'), (\"'s\", 'VERB'), ('firehose', 'PRT'), ('.', '.')]\n",
      "[('Twitter', 'PRT'), ('is', 'VERB'), ('an', 'DET'), ('online', 'PRT'), ('news', 'NOUN'), ('and', 'CONJ'), ('social', 'ADJ'), ('networking', 'NOUN'), ('service', 'NOUN'), ('on', 'ADP'), ('which', 'DET'), ('users', 'NOUN'), ('post', 'NOUN'), ('and', 'CONJ'), ('interact', 'PRT'), ('with', 'ADP'), ('messages', 'PRT'), ('known', 'VERB'), ('as', 'ADP'), ('tweets', 'PRT'), ('.', '.')]\n",
      "[('Before', 'ADP'), ('entering', 'VERB'), ('politics', 'NOUN'), (',', '.'), ('Donald', 'NOUN'), ('Trump', 'PRT'), ('was', 'VERB'), ('a', 'DET'), ('domineering', 'PRT'), ('businessman', 'NOUN'), ('and', 'CONJ'), ('a', 'DET'), ('television', 'NOUN'), ('personality', 'PRT'), ('.', '.')]\n",
      "[('The', 'DET'), ('2018', 'PRT'), ('FIFA', 'PRT'), ('World', 'NOUN'), ('Cup', 'PRT'), ('is', 'VERB'), ('the', 'DET'), ('21st', 'PRT'), ('FIFA', 'PRT'), ('World', 'NOUN'), ('Cup', 'PRT'), (',', '.'), ('an', 'DET'), ('international', 'ADJ'), ('football', 'NOUN'), ('tournament', 'PRT'), ('contested', 'PRT'), ('once', 'ADV'), ('every', 'DET'), ('four', 'NUM'), ('years', 'NOUN'), ('.', '.')]\n",
      "[('This', 'DET'), ('is', 'VERB'), ('the', 'DET'), ('first', 'ADJ'), ('World', 'NOUN'), ('Cup', 'PRT'), ('to', 'PRT'), ('be', 'VERB'), ('held', 'VERB'), ('in', 'ADP'), ('Eastern', 'NOUN'), ('Europe', 'NOUN'), ('and', 'CONJ'), ('the', 'DET'), ('11th', 'ADJ'), ('time', 'NOUN'), ('that', 'ADP'), ('it', 'PRON'), ('has', 'VERB'), ('been', 'VERB'), ('held', 'VERB'), ('in', 'ADP'), ('Europe', 'NOUN'), ('.', '.')]\n",
      "[('Show', 'NOUN'), ('me', 'PRON'), ('the', 'DET'), ('cheapest', 'ADJ'), ('round', 'NOUN'), ('trips', 'PRT'), ('from', 'ADP'), ('Dallas', 'NOUN'), ('to', 'PRT'), ('Atlanta', 'NOUN')]\n",
      "[('I', 'PRON'), ('would', 'VERB'), ('like', 'ADP'), ('to', 'PRT'), ('see', 'VERB'), ('flights', 'NOUN'), ('from', 'ADP'), ('Denver', 'NOUN'), ('to', 'PRT'), ('Philadelphia', 'NOUN'), ('.', '.')]\n",
      "[('Show', 'NOUN'), ('me', 'PRON'), ('the', 'DET'), ('price', 'NOUN'), ('of', 'ADP'), ('the', 'DET'), ('flights', 'NOUN'), ('leaving', 'VERB'), ('Atlanta', 'NOUN'), ('at', 'ADP'), ('about', 'ADP'), ('3', 'NUM'), ('in', 'ADP'), ('the', 'DET'), ('afternoon', 'NOUN'), ('and', 'CONJ'), ('arriving', 'PRT'), ('in', 'ADP'), ('San', 'NOUN'), ('Francisco', 'NOUN'), ('.', '.')]\n",
      "[('NASA', 'PRT'), ('invited', 'PRT'), ('social', 'ADJ'), ('media', 'NOUN'), ('users', 'NOUN'), ('to', 'PRT'), ('experience', 'NOUN'), ('the', 'DET'), ('launch', 'NOUN'), ('of', 'ADP'), ('ICESAT-2', 'PRT'), ('Satellite', 'PRT'), ('.', '.')]\n"
     ]
    }
   ],
   "source": [
    "#Print the Sample Test Sentences with the vanilla Viterbi algorithm\n",
    "for token in sample_test_corpus:\n",
    "    print(list(Viterbi(word_tokenize(token))))"
   ]
  },
  {
   "cell_type": "code",
   "execution_count": 68,
   "metadata": {},
   "outputs": [
    {
     "name": "stdout",
     "output_type": "stream",
     "text": [
      "[('Android', 'NOUN'), ('is', 'VERB'), ('a', 'DET'), ('mobile', 'ADJ'), ('operating', 'NOUN'), ('system', 'NOUN'), ('developed', 'VERB'), ('by', 'ADP'), ('Google', 'DET'), ('.', '.')]\n",
      "[('Android', 'NOUN'), ('has', 'VERB'), ('been', 'VERB'), ('the', 'DET'), ('best-selling', 'ADJ'), ('OS', 'NOUN'), ('worldwide', 'NOUN'), ('on', 'ADP'), ('smartphones', 'DET'), ('since', 'ADP'), ('2011', 'DET'), ('and', 'CONJ'), ('on', 'ADP'), ('tablets', 'NOUN'), ('since', 'ADP'), ('2013', 'DET'), ('.', '.')]\n",
      "[('Google', 'NOUN'), ('and', 'CONJ'), ('Twitter', 'NOUN'), ('made', 'VERB'), ('a', 'DET'), ('deal', 'NOUN'), ('in', 'ADP'), ('2015', 'DET'), ('that', 'ADP'), ('gave', 'VERB'), ('Google', 'X'), ('access', 'NOUN'), ('to', 'PRT'), ('Twitter', 'VERB'), (\"'s\", 'PRT'), ('firehose', 'VERB'), ('.', '.')]\n",
      "[('Twitter', 'NOUN'), ('is', 'VERB'), ('an', 'DET'), ('online', 'NOUN'), ('news', 'NOUN'), ('and', 'CONJ'), ('social', 'ADJ'), ('networking', 'NOUN'), ('service', 'NOUN'), ('on', 'ADP'), ('which', 'DET'), ('users', 'NOUN'), ('post', 'NOUN'), ('and', 'CONJ'), ('interact', 'NOUN'), ('with', 'ADP'), ('messages', 'DET'), ('known', 'ADJ'), ('as', 'ADP'), ('tweets', 'DET'), ('.', '.')]\n",
      "[('Before', 'ADP'), ('entering', 'VERB'), ('politics', 'NOUN'), (',', '.'), ('Donald', 'NOUN'), ('Trump', 'NOUN'), ('was', 'VERB'), ('a', 'DET'), ('domineering', 'NOUN'), ('businessman', 'NOUN'), ('and', 'CONJ'), ('a', 'DET'), ('television', 'NOUN'), ('personality', 'NOUN'), ('.', '.')]\n",
      "[('The', 'DET'), ('2018', 'NOUN'), ('FIFA', 'NOUN'), ('World', 'NOUN'), ('Cup', 'NOUN'), ('is', 'VERB'), ('the', 'DET'), ('21st', 'NOUN'), ('FIFA', 'NOUN'), ('World', 'NOUN'), ('Cup', 'NOUN'), (',', '.'), ('an', 'DET'), ('international', 'ADJ'), ('football', 'NOUN'), ('tournament', 'NOUN'), ('contested', 'NOUN'), ('once', 'ADV'), ('every', 'DET'), ('four', 'NUM'), ('years', 'NOUN'), ('.', '.')]\n",
      "[('This', 'DET'), ('is', 'VERB'), ('the', 'DET'), ('first', 'ADJ'), ('World', 'NOUN'), ('Cup', 'NOUN'), ('to', 'PRT'), ('be', 'VERB'), ('held', 'VERB'), ('in', 'ADP'), ('Eastern', 'NOUN'), ('Europe', 'NOUN'), ('and', 'CONJ'), ('the', 'DET'), ('11th', 'ADJ'), ('time', 'NOUN'), ('that', 'ADP'), ('it', 'PRON'), ('has', 'VERB'), ('been', 'VERB'), ('held', 'VERB'), ('in', 'ADP'), ('Europe', 'NOUN'), ('.', '.')]\n",
      "[('Show', 'NOUN'), ('me', 'PRON'), ('the', 'DET'), ('cheapest', 'ADJ'), ('round', 'NOUN'), ('trips', 'NOUN'), ('from', 'ADP'), ('Dallas', 'NOUN'), ('to', 'PRT'), ('Atlanta', 'NOUN')]\n",
      "[('I', 'PRON'), ('would', 'VERB'), ('like', 'ADP'), ('to', 'PRT'), ('see', 'VERB'), ('flights', 'NOUN'), ('from', 'ADP'), ('Denver', 'NOUN'), ('to', 'PRT'), ('Philadelphia', 'NOUN'), ('.', '.')]\n",
      "[('Show', 'NOUN'), ('me', 'PRON'), ('the', 'DET'), ('price', 'NOUN'), ('of', 'ADP'), ('the', 'DET'), ('flights', 'NOUN'), ('leaving', 'VERB'), ('Atlanta', 'NOUN'), ('at', 'ADP'), ('about', 'ADP'), ('3', 'NUM'), ('in', 'ADP'), ('the', 'DET'), ('afternoon', 'NOUN'), ('and', 'CONJ'), ('arriving', 'NOUN'), ('in', 'ADP'), ('San', 'NOUN'), ('Francisco', 'NOUN'), ('.', '.')]\n",
      "[('NASA', 'NOUN'), ('invited', 'NOUN'), ('social', 'ADJ'), ('media', 'NOUN'), ('users', 'NOUN'), ('to', 'PRT'), ('experience', 'NOUN'), ('the', 'DET'), ('launch', 'NOUN'), ('of', 'ADP'), ('ICESAT-2', 'DET'), ('Satellite', 'NOUN'), ('.', '.')]\n"
     ]
    }
   ],
   "source": [
    "#Print the Sample Test Sentences with the modified Viterbi(with combining tagger) algorithm\n",
    "for token in sample_test_corpus:\n",
    "    print(list(Viterbi_modified1(word_tokenize(token))))"
   ]
  },
  {
   "cell_type": "code",
   "execution_count": 69,
   "metadata": {},
   "outputs": [
    {
     "name": "stdout",
     "output_type": "stream",
     "text": [
      "[('Android', 'NOUN'), ('is', 'VERB'), ('a', 'DET'), ('mobile', 'ADJ'), ('operating', 'NOUN'), ('system', 'NOUN'), ('developed', 'VERB'), ('by', 'ADP'), ('Google', 'NOUN'), ('.', '.')]\n",
      "[('Android', 'NOUN'), ('has', 'VERB'), ('been', 'VERB'), ('the', 'DET'), ('best-selling', 'ADJ'), ('OS', 'NOUN'), ('worldwide', 'NOUN'), ('on', 'ADP'), ('smartphones', 'VERB'), ('since', 'ADP'), ('2011', 'NUM'), ('and', 'CONJ'), ('on', 'ADP'), ('tablets', 'NOUN'), ('since', 'ADP'), ('2013', 'NUM'), ('.', '.')]\n",
      "[('Google', 'NOUN'), ('and', 'CONJ'), ('Twitter', 'NOUN'), ('made', 'VERB'), ('a', 'DET'), ('deal', 'NOUN'), ('in', 'ADP'), ('2015', 'NUM'), ('that', 'ADP'), ('gave', 'VERB'), ('Google', 'NOUN'), ('access', 'NOUN'), ('to', 'PRT'), ('Twitter', 'NOUN'), (\"'s\", 'PRT'), ('firehose', 'NOUN'), ('.', '.')]\n",
      "[('Twitter', 'NOUN'), ('is', 'VERB'), ('an', 'DET'), ('online', 'NOUN'), ('news', 'NOUN'), ('and', 'CONJ'), ('social', 'ADJ'), ('networking', 'NOUN'), ('service', 'NOUN'), ('on', 'ADP'), ('which', 'DET'), ('users', 'NOUN'), ('post', 'NOUN'), ('and', 'CONJ'), ('interact', 'NOUN'), ('with', 'ADP'), ('messages', 'VERB'), ('known', 'VERB'), ('as', 'ADP'), ('tweets', 'NOUN'), ('.', '.')]\n",
      "[('Before', 'ADP'), ('entering', 'VERB'), ('politics', 'NOUN'), (',', '.'), ('Donald', 'NOUN'), ('Trump', 'NOUN'), ('was', 'VERB'), ('a', 'DET'), ('domineering', 'VERB'), ('businessman', 'NOUN'), ('and', 'CONJ'), ('a', 'DET'), ('television', 'NOUN'), ('personality', 'NOUN'), ('.', '.')]\n",
      "[('The', 'DET'), ('2018', 'NUM'), ('FIFA', 'NOUN'), ('World', 'NOUN'), ('Cup', 'NOUN'), ('is', 'VERB'), ('the', 'DET'), ('21st', 'NOUN'), ('FIFA', 'NOUN'), ('World', 'NOUN'), ('Cup', 'NOUN'), (',', '.'), ('an', 'DET'), ('international', 'ADJ'), ('football', 'NOUN'), ('tournament', 'NOUN'), ('contested', 'VERB'), ('once', 'ADV'), ('every', 'DET'), ('four', 'NUM'), ('years', 'NOUN'), ('.', '.')]\n",
      "[('This', 'DET'), ('is', 'VERB'), ('the', 'DET'), ('first', 'ADJ'), ('World', 'NOUN'), ('Cup', 'NOUN'), ('to', 'PRT'), ('be', 'VERB'), ('held', 'VERB'), ('in', 'ADP'), ('Eastern', 'NOUN'), ('Europe', 'NOUN'), ('and', 'CONJ'), ('the', 'DET'), ('11th', 'ADJ'), ('time', 'NOUN'), ('that', 'ADP'), ('it', 'PRON'), ('has', 'VERB'), ('been', 'VERB'), ('held', 'VERB'), ('in', 'ADP'), ('Europe', 'NOUN'), ('.', '.')]\n",
      "[('Show', 'NOUN'), ('me', 'PRON'), ('the', 'DET'), ('cheapest', 'ADJ'), ('round', 'NOUN'), ('trips', 'NOUN'), ('from', 'ADP'), ('Dallas', 'NOUN'), ('to', 'PRT'), ('Atlanta', 'NOUN')]\n",
      "[('I', 'PRON'), ('would', 'VERB'), ('like', 'ADP'), ('to', 'PRT'), ('see', 'VERB'), ('flights', 'NOUN'), ('from', 'ADP'), ('Denver', 'NOUN'), ('to', 'PRT'), ('Philadelphia', 'NOUN'), ('.', '.')]\n",
      "[('Show', 'NOUN'), ('me', 'PRON'), ('the', 'DET'), ('price', 'NOUN'), ('of', 'ADP'), ('the', 'DET'), ('flights', 'NOUN'), ('leaving', 'VERB'), ('Atlanta', 'NOUN'), ('at', 'ADP'), ('about', 'ADP'), ('3', 'NUM'), ('in', 'ADP'), ('the', 'DET'), ('afternoon', 'NOUN'), ('and', 'CONJ'), ('arriving', 'VERB'), ('in', 'ADP'), ('San', 'NOUN'), ('Francisco', 'NOUN'), ('.', '.')]\n",
      "[('NASA', 'NOUN'), ('invited', 'VERB'), ('social', 'ADJ'), ('media', 'NOUN'), ('users', 'NOUN'), ('to', 'PRT'), ('experience', 'NOUN'), ('the', 'DET'), ('launch', 'NOUN'), ('of', 'ADP'), ('ICESAT-2', 'NOUN'), ('Satellite', 'NOUN'), ('.', '.')]\n"
     ]
    }
   ],
   "source": [
    "#Print the Sample Test Sentences with the modified Viterbi algorithm\n",
    "for token in sample_test_corpus:\n",
    "    print(list(Viterbi_modified3(word_tokenize(token))))"
   ]
  },
  {
   "cell_type": "markdown",
   "metadata": {},
   "source": [
    "#### The Combining Tagger Version of modidied Viterbi Algorithm has corrected the following sentences with appropriate POS tagging:"
   ]
  },
  {
   "cell_type": "markdown",
   "metadata": {},
   "source": [
    "***Android is a mobile operating system developed by Google***\n",
    "\n",
    "Words such as `Android` and `Google` are unknown words and are incorrectly tagged in the vanilla viterbi algorithm. \n",
    "These are now correctly classified as Nouns"
   ]
  },
  {
   "cell_type": "markdown",
   "metadata": {},
   "source": [
    "***Twitter is an online news and social networking service on which users post and interact with messages known as tweets***\n",
    "\n",
    "In this sentence, words such as `Twitter` and `tweets` are unknown words and are incorrectly tagged in the vanilla viterbi algorithm. These are correctly now classified as Nouns"
   ]
  },
  {
   "cell_type": "markdown",
   "metadata": {},
   "source": [
    "***Android has been the best-selling OS worldwide on smartphones since 2011 and on tablets since 2013.***\n",
    "\n",
    "In this sentence, words such as `Android`, `worldwide` are unknown words and are incorrectly tagged in the vanilla viterbi algorithm. These are correctly now classified as Nouns\n",
    "\n",
    "In addition, `2011`, `2013` are incorrectly classified by vanilla algorith, but in the updated version there is a rule for indicating cardinal numbers, therefore `2011` is correctly tagged as 'NUM'."
   ]
  },
  {
   "cell_type": "markdown",
   "metadata": {},
   "source": [
    "***NASA invited social media users to experience the launch of ICESAT-2 Satellite.***\n",
    "\n",
    "In this sentence, words such as `NASA` and `ICESAT-2` are unknown words and are incorrectly tagged in the vanilla viterbi algorithm. These are correctly now classified as Nouns"
   ]
  },
  {
   "cell_type": "code",
   "execution_count": null,
   "metadata": {},
   "outputs": [],
   "source": []
  }
 ],
 "metadata": {
  "kernelspec": {
   "display_name": "Python 3",
   "language": "python",
   "name": "python3"
  },
  "language_info": {
   "codemirror_mode": {
    "name": "ipython",
    "version": 3
   },
   "file_extension": ".py",
   "mimetype": "text/x-python",
   "name": "python",
   "nbconvert_exporter": "python",
   "pygments_lexer": "ipython3",
   "version": "3.7.4"
  }
 },
 "nbformat": 4,
 "nbformat_minor": 2
}
